{
  "nbformat": 4,
  "nbformat_minor": 0,
  "metadata": {
    "colab": {
      "provenance": [],
      "collapsed_sections": [
        "pm7xRNYGPula",
        "L23uMXRqDdKp",
        "5eIqWzMKEkj7"
      ]
    },
    "kernelspec": {
      "name": "python3",
      "display_name": "Python 3"
    },
    "language_info": {
      "name": "python"
    }
  },
  "cells": [
    {
      "cell_type": "markdown",
      "source": [
        "# Importing libraries and data"
      ],
      "metadata": {
        "id": "cFXtKccYpqI8"
      }
    },
    {
      "cell_type": "code",
      "source": [
        "import os\n",
        "import glob\n",
        "\n",
        "TRAINING_ONLY = True"
      ],
      "metadata": {
        "id": "cOOYT_Vdh3H0"
      },
      "execution_count": 1,
      "outputs": []
    },
    {
      "cell_type": "code",
      "execution_count": 2,
      "metadata": {
        "colab": {
          "base_uri": "https://localhost:8080/"
        },
        "id": "4rFvmC_TN6uq",
        "outputId": "e12c0e84-4831-4c5c-b2a1-4a798120b822"
      },
      "outputs": [
        {
          "output_type": "stream",
          "name": "stdout",
          "text": [
            "Path to dataset files: /root/.cache/kagglehub/datasets/vbookshelf/respiratory-sound-database/versions/2\n"
          ]
        }
      ],
      "source": [
        "import kagglehub\n",
        "\n",
        "# Download latest version\n",
        "path = kagglehub.dataset_download(\"vbookshelf/respiratory-sound-database\")\n",
        "\n",
        "print(\"Path to dataset files:\", path)"
      ]
    },
    {
      "cell_type": "code",
      "source": [
        "dataset_path = '/root/.cache/kagglehub/datasets/vbookshelf/respiratory-sound-database/versions/2'\n",
        "\n",
        "audio_path = os.path.join(dataset_path, 'respiratory_sound_database','Respiratory_Sound_Database', 'audio_and_txt_files')\n",
        "audio_files = glob.glob(os.path.join(audio_path, '**/*.wav'), recursive=True)\n",
        "\n",
        "# print(glob.glob(os.path.join(dataset_path, '*'), recursive=True))\n",
        "\n",
        "print(f\"Found {len(audio_files)} audio files.\")"
      ],
      "metadata": {
        "colab": {
          "base_uri": "https://localhost:8080/"
        },
        "id": "NWY4eMRZhFKo",
        "outputId": "c8ed8919-0dfd-4e3b-8b50-fb7b0b9647bd"
      },
      "execution_count": 3,
      "outputs": [
        {
          "output_type": "stream",
          "name": "stdout",
          "text": [
            "Found 920 audio files.\n"
          ]
        }
      ]
    },
    {
      "cell_type": "markdown",
      "source": [
        "# EDA"
      ],
      "metadata": {
        "id": "pm7xRNYGPula"
      }
    },
    {
      "cell_type": "code",
      "source": [
        "import librosa\n",
        "import numpy as np\n",
        "import matplotlib.pyplot as plt"
      ],
      "metadata": {
        "id": "YSTKmTP4ctk4"
      },
      "execution_count": null,
      "outputs": []
    },
    {
      "cell_type": "code",
      "source": [
        "# Function to extract spectrogram from audio\n",
        "if TRAINING_ONLY is False:\n",
        "  def extract_spectrogram(audio_path, n_mels=128, fmax=8000, fixed_length=500):\n",
        "      try:\n",
        "          y, sr = librosa.load(audio_path, sr=None)\n",
        "          S = librosa.feature.melspectrogram(y=y, sr=sr, n_mels=n_mels, fmax=fmax)\n",
        "          log_S = librosa.power_to_db(S, ref=np.max)\n",
        "          padding = librosa.util.fix_length(log_S, size=fixed_length, axis=1)\n",
        "          return padding\n",
        "      except Exception as e:\n",
        "          print(f\"Error processing {audio_path}: {e}\")\n",
        "          return None\n",
        "\n",
        "  # Function to extract MFCCs from audio\n",
        "  def extract_mfcc(audio_path, n_mfcc=13, fixed_length=500):\n",
        "      try:\n",
        "          y, sr = librosa.load(audio_path, sr=None)\n",
        "          mfccs = librosa.feature.mfcc(y=y, sr=sr, n_mfcc=n_mfcc)\n",
        "          padding = librosa.util.fix_length(mfccs, size=fixed_length, axis=1)\n",
        "          return padding\n",
        "      except Exception as e:\n",
        "          print(f\"Error processing {audio_path}: {e}\")\n",
        "          return None\n",
        "\n",
        "  # Function to process all audio files in a given directory\n",
        "  def process_audio_files(dataset_path, extension='.wav', batch_size=10):\n",
        "      audio_files = glob.glob(os.path.join(dataset_path, f'**/*{extension}'), recursive=True)\n",
        "      spectrograms = []\n",
        "      mfccs = []\n",
        "\n",
        "      # Process audio files in batches\n",
        "      for i, audio_path in enumerate(audio_files):\n",
        "          spectrogram = extract_spectrogram(audio_path, fixed_length=batch_size)\n",
        "          mfcc = extract_mfcc(audio_path, fixed_length=batch_size)\n",
        "\n",
        "          if spectrogram is not None:\n",
        "              spectrograms.append(spectrogram)\n",
        "          if mfcc is not None:\n",
        "              mfccs.append(mfcc)\n",
        "\n",
        "          # Process in batches to reduce memory usage\n",
        "          if len(spectrograms) >= batch_size:\n",
        "              # print(f\"Processed {i + 1}/{len(audio_files)} files\")\n",
        "              break\n",
        "\n",
        "\n",
        "      # Check if any spectrograms were generated\n",
        "      if not spectrograms:\n",
        "          print(\"No spectrograms were generated.\")\n",
        "\n",
        "      return spectrograms, mfccs"
      ],
      "metadata": {
        "id": "NQYQAjxYcxd3"
      },
      "execution_count": null,
      "outputs": []
    },
    {
      "cell_type": "code",
      "source": [
        "# Get and print the list of files\n",
        "if TRAINING_ONLY is False:\n",
        "  spectrograms, mfccs = process_audio_files(dataset_path, batch_size=500)"
      ],
      "metadata": {
        "id": "M_z3E-Y4N82o"
      },
      "execution_count": null,
      "outputs": []
    },
    {
      "cell_type": "code",
      "source": [
        "# Check if we have valid data for training\n",
        "if TRAINING_ONLY is False:\n",
        "  if spectrograms:\n",
        "      print(f\"Spectrograms shape: {np.array(spectrograms).shape}\")\n",
        "\n",
        "  # Ensure there is data to proceed with\n",
        "  if spectrograms:\n",
        "      plt.figure(figsize=(10, 6))\n",
        "      plt.imshow(spectrograms[0], aspect='auto', origin='lower', cmap='inferno')\n",
        "      plt.title('Spectrogram of First Audio File')\n",
        "      plt.xlabel('Time (Frames)')\n",
        "      plt.ylabel('Frequency Bins')\n",
        "      plt.colorbar(format='%+2.0f dB')\n",
        "      plt.show()"
      ],
      "metadata": {
        "id": "Dpsy9ckieddi"
      },
      "execution_count": null,
      "outputs": []
    },
    {
      "cell_type": "code",
      "source": [
        "# Check MFCCs\n",
        "# if mfccs:\n",
        "#     print(f\"MFCCs shape: {np.array(mfccs).shape}\")\n",
        "\n",
        "if TRAINING_ONLY is False:\n",
        "  if mfccs:\n",
        "      plt.figure(figsize=(10, 6))\n",
        "      plt.imshow(mfccs[0], aspect='auto', origin='lower', cmap='viridis')\n",
        "      plt.title('MFCCs of First Audio File')\n",
        "      plt.xlabel('Time (Frames)')\n",
        "      plt.ylabel('MFCC Coefficients')\n",
        "      plt.colorbar(format='%+2.0f dB')\n",
        "      plt.show()"
      ],
      "metadata": {
        "id": "WxFUDuu_ekdb"
      },
      "execution_count": null,
      "outputs": []
    },
    {
      "cell_type": "markdown",
      "source": [
        "# Data Preparation"
      ],
      "metadata": {
        "id": "_xhx_zdhS3c3"
      }
    },
    {
      "cell_type": "code",
      "source": [
        "import os\n",
        "import glob\n",
        "import numpy as np\n",
        "import pandas as pd\n",
        "import librosa\n",
        "from sklearn.model_selection import train_test_split\n",
        "from sklearn.ensemble import RandomForestClassifier\n",
        "from sklearn.metrics import accuracy_score\n",
        "from sklearn.preprocessing import LabelEncoder\n",
        "\n",
        "import tensorflow as tf\n",
        "from tensorflow.keras import layers, models\n",
        "from sklearn.model_selection import train_test_split\n",
        "from sklearn.preprocessing import LabelEncoder"
      ],
      "metadata": {
        "id": "5IGeLxDBlxxi"
      },
      "execution_count": 4,
      "outputs": []
    },
    {
      "cell_type": "code",
      "source": [
        "patient_diagnosis = os.path.join(dataset_path, 'demographic_info.txt')\n",
        "col_names = ['patient_id', 'age', 'sex', 'adult_bmi', 'child_weight', 'child_height']\n",
        "df_demo = pd.read_csv(patient_diagnosis, sep=\" \", header=None, names=col_names)\n",
        "\n",
        "\n",
        "# Load the disease diagnosis information\n",
        "diagnosis_mapping = {}\n",
        "diagnosis_file = os.path.join(dataset_path, 'demographic_info.txt')\n",
        "with open(diagnosis_file, 'r') as f:\n",
        "    for line in f:\n",
        "        parts_diag = line.strip().split()\n",
        "        if len(parts_diag) >= 2:\n",
        "            patient_id = parts_diag[0]\n",
        "            diagnosis = parts_diag[1]\n",
        "            diagnosis_mapping[patient_id] = diagnosis"
      ],
      "metadata": {
        "id": "SvMkorp_1Ka9"
      },
      "execution_count": 6,
      "outputs": []
    },
    {
      "cell_type": "code",
      "source": [
        "patient_diagnosis = os.path.join(dataset_path, 'respiratory_sound_database','Respiratory_Sound_Database', 'patient_diagnosis.csv')\n",
        "df_diag = pd.read_csv(patient_diagnosis, header=None, names=['patient_id', 'diagnosis'])"
      ],
      "metadata": {
        "id": "jeC0T54n1M3s"
      },
      "execution_count": 7,
      "outputs": []
    },
    {
      "cell_type": "code",
      "source": [
        "def extract_features(file_path, sr=22050, n_mfcc=13):\n",
        "    \"\"\"\n",
        "    Extract audio features including MFCCs, spectral centroid,\n",
        "    zero crossing rate, spectral bandwidth, and chroma features.\n",
        "    \"\"\"\n",
        "    try:\n",
        "        y, sr = librosa.load(file_path, sr=sr)\n",
        "    except Exception as e:\n",
        "        print(f\"Error loading {file_path}: {e}\")\n",
        "        return None\n",
        "\n",
        "    if y.size == 0:\n",
        "        print(f\"File {file_path} is empty.\")\n",
        "        return None\n",
        "\n",
        "    # MFCCs\n",
        "    mfcc = librosa.feature.mfcc(y=y, sr=sr, n_mfcc=n_mfcc)\n",
        "    mfcc_mean = np.mean(mfcc, axis=1)\n",
        "    mfcc_std = np.std(mfcc, axis=1)\n",
        "\n",
        "    # Spectral centroid\n",
        "    spec_centroid = librosa.feature.spectral_centroid(y=y, sr=sr)\n",
        "    spec_centroid_mean = np.mean(spec_centroid)\n",
        "    spec_centroid_std = np.std(spec_centroid)\n",
        "\n",
        "    # Zero Crossing Rate\n",
        "    zcr = librosa.feature.zero_crossing_rate(y)\n",
        "    zcr_mean = np.mean(zcr)\n",
        "    zcr_std = np.std(zcr)\n",
        "\n",
        "    # Spectral bandwidth\n",
        "    spec_bandwidth = librosa.feature.spectral_bandwidth(y=y, sr=sr)\n",
        "    spec_bandwidth_mean = np.mean(spec_bandwidth)\n",
        "    spec_bandwidth_std = np.std(spec_bandwidth)\n",
        "\n",
        "    # Chroma features\n",
        "    chroma = librosa.feature.chroma_stft(y=y, sr=sr)\n",
        "    chroma_mean = np.mean(chroma, axis=1)\n",
        "    chroma_std = np.std(chroma, axis=1)\n",
        "\n",
        "    # Combine features into a dictionary\n",
        "    features = {}\n",
        "    for i in range(n_mfcc):\n",
        "        features[f'mfcc_{i+1}_mean'] = mfcc_mean[i]\n",
        "        features[f'mfcc_{i+1}_std'] = mfcc_std[i]\n",
        "\n",
        "    features['spec_centroid_mean'] = spec_centroid_mean\n",
        "    features['spec_centroid_std'] = spec_centroid_std\n",
        "    features['zcr_mean'] = zcr_mean\n",
        "    features['zcr_std'] = zcr_std\n",
        "    features['spec_bandwidth_mean'] = spec_bandwidth_mean\n",
        "    features['spec_bandwidth_std'] = spec_bandwidth_std\n",
        "\n",
        "    for i in range(chroma.shape[0]):\n",
        "        features[f'chroma_{i+1}_mean'] = chroma_mean[i]\n",
        "        features[f'chroma_{i+1}_std'] = chroma_std[i]\n",
        "\n",
        "    return features"
      ],
      "metadata": {
        "id": "MHy3Pt81hd-J"
      },
      "execution_count": 8,
      "outputs": []
    },
    {
      "cell_type": "code",
      "source": [
        "feature_list = []\n",
        "labels = []\n",
        "\n",
        "for file in audio_files:\n",
        "    feats = extract_features(file)\n",
        "    if feats is None:\n",
        "        continue\n",
        "    feature_list.append(feats)\n",
        "\n",
        "    # Extract patient ID from the file name (first part)\n",
        "    file_name = os.path.basename(file)\n",
        "    parts = file_name.split('_')\n",
        "    if len(parts) >= 1:\n",
        "        patient_id = parts[0]\n",
        "        diagnosis_row = df_diag[df_diag['patient_id'] == int(patient_id)]\n",
        "\n",
        "        # Check if the diagnosis exists for the patient\n",
        "        if not diagnosis_row.empty:\n",
        "            diagnosis = diagnosis_row['diagnosis'].values[0]\n",
        "\n",
        "            if diagnosis == \"Healthy\":\n",
        "                label = \"healthy\"\n",
        "            elif diagnosis in ['COPD', 'LRTI', 'URTI']:\n",
        "                label = \"diseased\"\n",
        "            else:\n",
        "                label = \"unknown\"\n",
        "        else:\n",
        "            label = \"unknown\"\n",
        "            print(f\"Warning: Missing diagnosis for patient {patient_id}. Label set to 'unknown'.\")\n",
        "\n",
        "    else:\n",
        "        label = \"unknown\"\n",
        "\n",
        "    labels.append(label)"
      ],
      "metadata": {
        "colab": {
          "base_uri": "https://localhost:8080/"
        },
        "id": "C_R5SzDtvWfC",
        "outputId": "a2a6cc2a-2329-4ac1-a098-56ecc7383909"
      },
      "execution_count": 9,
      "outputs": [
        {
          "output_type": "stream",
          "name": "stderr",
          "text": [
            "/usr/local/lib/python3.11/dist-packages/librosa/core/pitch.py:101: UserWarning: Trying to estimate tuning from empty frequency set.\n",
            "  return pitch_tuning(\n"
          ]
        }
      ]
    },
    {
      "cell_type": "code",
      "source": [
        "# Create DataFrame from features and labels\n",
        "df_features = pd.DataFrame(feature_list)\n",
        "df_features['label'] = labels\n",
        "df_features = df_features[df_features['label'].isin(['healthy', 'diseased'])]\n",
        "\n",
        "# Debug: Check label distribution before filtering\n",
        "print(\"Feature DataFrame shape:\", df_features.shape)\n",
        "print(\"-\"*50)\n",
        "print(df_features['label'].value_counts())\n",
        "# print(\"-\"*50)\n",
        "# print(df_features.head())"
      ],
      "metadata": {
        "colab": {
          "base_uri": "https://localhost:8080/"
        },
        "id": "4saZheT1oWO7",
        "outputId": "eb62e489-a0ff-4d8a-b293-c7b770ab8741"
      },
      "execution_count": 11,
      "outputs": [
        {
          "output_type": "stream",
          "name": "stdout",
          "text": [
            "Feature DataFrame shape: (853, 57)\n",
            "--------------------------------------------------\n",
            "label\n",
            "diseased    818\n",
            "healthy      35\n",
            "Name: count, dtype: int64\n"
          ]
        }
      ]
    },
    {
      "cell_type": "code",
      "source": [
        "from imblearn.over_sampling import SMOTE\n",
        "import pandas as pd\n",
        "from sklearn.model_selection import train_test_split\n",
        "from sklearn.preprocessing import LabelEncoder\n",
        "\n",
        "\n",
        "X = df_features.drop('label', axis=1)\n",
        "y = df_features['label']\n",
        "le = LabelEncoder()\n",
        "y_encoded = le.fit_transform(y)\n",
        "\n",
        "# Apply SMOTE to balance the classes\n",
        "smote = SMOTE(sampling_strategy='auto', random_state=42)\n",
        "X, y = smote.fit_resample(X, y_encoded)\n",
        "\n",
        "# Convert resampled features and labels back to DataFrame\n",
        "df_resampled = pd.DataFrame(X, columns=X.columns)\n",
        "df_resampled['label'] = le.inverse_transform(y)\n",
        "\n",
        "# Check the new label distribution after oversampling\n",
        "print(df_resampled['label'].value_counts())\n",
        "df_resampled = df_resampled.sample(frac=1, random_state=42).reset_index(drop=True)\n",
        "\n",
        "# Now split into training and testing sets using the resampled data\n",
        "X_train, X_test, y_train, y_test = train_test_split(df_resampled.drop('label', axis=1),\n",
        "                                                    df_resampled['label'],\n",
        "                                                    test_size=0.2, random_state=42)"
      ],
      "metadata": {
        "colab": {
          "base_uri": "https://localhost:8080/"
        },
        "id": "BipjdqRm_7wA",
        "outputId": "6007d235-c1a7-4b1d-9578-be74363fe5b0"
      },
      "execution_count": 12,
      "outputs": [
        {
          "output_type": "stream",
          "name": "stdout",
          "text": [
            "label\n",
            "diseased    818\n",
            "healthy     818\n",
            "Name: count, dtype: int64\n"
          ]
        }
      ]
    },
    {
      "cell_type": "markdown",
      "source": [
        "# Model Building"
      ],
      "metadata": {
        "id": "dqQ2ROAgpfd5"
      }
    },
    {
      "cell_type": "markdown",
      "source": [
        "## RandomForest Classification"
      ],
      "metadata": {
        "id": "xTOJdScdr0Sq"
      }
    },
    {
      "cell_type": "code",
      "source": [
        "import os\n",
        "import glob\n",
        "import numpy as np\n",
        "import pandas as pd\n",
        "import librosa\n",
        "from sklearn.model_selection import train_test_split\n",
        "from sklearn.ensemble import RandomForestClassifier\n",
        "from sklearn.metrics import accuracy_score\n",
        "from sklearn.preprocessing import LabelEncoder\n",
        "from sklearn.metrics import confusion_matrix, classification_report\n",
        "from sklearn.model_selection import cross_val_score"
      ],
      "metadata": {
        "id": "50bPizIPtuI0"
      },
      "execution_count": 13,
      "outputs": []
    },
    {
      "cell_type": "code",
      "source": [
        "# Train a Random Forest classifier\n",
        "clf = RandomForestClassifier(n_estimators=100, random_state=42)\n",
        "clf.fit(X_train, y_train)"
      ],
      "metadata": {
        "colab": {
          "base_uri": "https://localhost:8080/",
          "height": 80
        },
        "id": "SQm_FximBdJC",
        "outputId": "75356bc3-0773-48a3-c5b5-a9040b9a7516"
      },
      "execution_count": 14,
      "outputs": [
        {
          "output_type": "execute_result",
          "data": {
            "text/plain": [
              "RandomForestClassifier(random_state=42)"
            ],
            "text/html": [
              "<style>#sk-container-id-1 {\n",
              "  /* Definition of color scheme common for light and dark mode */\n",
              "  --sklearn-color-text: #000;\n",
              "  --sklearn-color-text-muted: #666;\n",
              "  --sklearn-color-line: gray;\n",
              "  /* Definition of color scheme for unfitted estimators */\n",
              "  --sklearn-color-unfitted-level-0: #fff5e6;\n",
              "  --sklearn-color-unfitted-level-1: #f6e4d2;\n",
              "  --sklearn-color-unfitted-level-2: #ffe0b3;\n",
              "  --sklearn-color-unfitted-level-3: chocolate;\n",
              "  /* Definition of color scheme for fitted estimators */\n",
              "  --sklearn-color-fitted-level-0: #f0f8ff;\n",
              "  --sklearn-color-fitted-level-1: #d4ebff;\n",
              "  --sklearn-color-fitted-level-2: #b3dbfd;\n",
              "  --sklearn-color-fitted-level-3: cornflowerblue;\n",
              "\n",
              "  /* Specific color for light theme */\n",
              "  --sklearn-color-text-on-default-background: var(--sg-text-color, var(--theme-code-foreground, var(--jp-content-font-color1, black)));\n",
              "  --sklearn-color-background: var(--sg-background-color, var(--theme-background, var(--jp-layout-color0, white)));\n",
              "  --sklearn-color-border-box: var(--sg-text-color, var(--theme-code-foreground, var(--jp-content-font-color1, black)));\n",
              "  --sklearn-color-icon: #696969;\n",
              "\n",
              "  @media (prefers-color-scheme: dark) {\n",
              "    /* Redefinition of color scheme for dark theme */\n",
              "    --sklearn-color-text-on-default-background: var(--sg-text-color, var(--theme-code-foreground, var(--jp-content-font-color1, white)));\n",
              "    --sklearn-color-background: var(--sg-background-color, var(--theme-background, var(--jp-layout-color0, #111)));\n",
              "    --sklearn-color-border-box: var(--sg-text-color, var(--theme-code-foreground, var(--jp-content-font-color1, white)));\n",
              "    --sklearn-color-icon: #878787;\n",
              "  }\n",
              "}\n",
              "\n",
              "#sk-container-id-1 {\n",
              "  color: var(--sklearn-color-text);\n",
              "}\n",
              "\n",
              "#sk-container-id-1 pre {\n",
              "  padding: 0;\n",
              "}\n",
              "\n",
              "#sk-container-id-1 input.sk-hidden--visually {\n",
              "  border: 0;\n",
              "  clip: rect(1px 1px 1px 1px);\n",
              "  clip: rect(1px, 1px, 1px, 1px);\n",
              "  height: 1px;\n",
              "  margin: -1px;\n",
              "  overflow: hidden;\n",
              "  padding: 0;\n",
              "  position: absolute;\n",
              "  width: 1px;\n",
              "}\n",
              "\n",
              "#sk-container-id-1 div.sk-dashed-wrapped {\n",
              "  border: 1px dashed var(--sklearn-color-line);\n",
              "  margin: 0 0.4em 0.5em 0.4em;\n",
              "  box-sizing: border-box;\n",
              "  padding-bottom: 0.4em;\n",
              "  background-color: var(--sklearn-color-background);\n",
              "}\n",
              "\n",
              "#sk-container-id-1 div.sk-container {\n",
              "  /* jupyter's `normalize.less` sets `[hidden] { display: none; }`\n",
              "     but bootstrap.min.css set `[hidden] { display: none !important; }`\n",
              "     so we also need the `!important` here to be able to override the\n",
              "     default hidden behavior on the sphinx rendered scikit-learn.org.\n",
              "     See: https://github.com/scikit-learn/scikit-learn/issues/21755 */\n",
              "  display: inline-block !important;\n",
              "  position: relative;\n",
              "}\n",
              "\n",
              "#sk-container-id-1 div.sk-text-repr-fallback {\n",
              "  display: none;\n",
              "}\n",
              "\n",
              "div.sk-parallel-item,\n",
              "div.sk-serial,\n",
              "div.sk-item {\n",
              "  /* draw centered vertical line to link estimators */\n",
              "  background-image: linear-gradient(var(--sklearn-color-text-on-default-background), var(--sklearn-color-text-on-default-background));\n",
              "  background-size: 2px 100%;\n",
              "  background-repeat: no-repeat;\n",
              "  background-position: center center;\n",
              "}\n",
              "\n",
              "/* Parallel-specific style estimator block */\n",
              "\n",
              "#sk-container-id-1 div.sk-parallel-item::after {\n",
              "  content: \"\";\n",
              "  width: 100%;\n",
              "  border-bottom: 2px solid var(--sklearn-color-text-on-default-background);\n",
              "  flex-grow: 1;\n",
              "}\n",
              "\n",
              "#sk-container-id-1 div.sk-parallel {\n",
              "  display: flex;\n",
              "  align-items: stretch;\n",
              "  justify-content: center;\n",
              "  background-color: var(--sklearn-color-background);\n",
              "  position: relative;\n",
              "}\n",
              "\n",
              "#sk-container-id-1 div.sk-parallel-item {\n",
              "  display: flex;\n",
              "  flex-direction: column;\n",
              "}\n",
              "\n",
              "#sk-container-id-1 div.sk-parallel-item:first-child::after {\n",
              "  align-self: flex-end;\n",
              "  width: 50%;\n",
              "}\n",
              "\n",
              "#sk-container-id-1 div.sk-parallel-item:last-child::after {\n",
              "  align-self: flex-start;\n",
              "  width: 50%;\n",
              "}\n",
              "\n",
              "#sk-container-id-1 div.sk-parallel-item:only-child::after {\n",
              "  width: 0;\n",
              "}\n",
              "\n",
              "/* Serial-specific style estimator block */\n",
              "\n",
              "#sk-container-id-1 div.sk-serial {\n",
              "  display: flex;\n",
              "  flex-direction: column;\n",
              "  align-items: center;\n",
              "  background-color: var(--sklearn-color-background);\n",
              "  padding-right: 1em;\n",
              "  padding-left: 1em;\n",
              "}\n",
              "\n",
              "\n",
              "/* Toggleable style: style used for estimator/Pipeline/ColumnTransformer box that is\n",
              "clickable and can be expanded/collapsed.\n",
              "- Pipeline and ColumnTransformer use this feature and define the default style\n",
              "- Estimators will overwrite some part of the style using the `sk-estimator` class\n",
              "*/\n",
              "\n",
              "/* Pipeline and ColumnTransformer style (default) */\n",
              "\n",
              "#sk-container-id-1 div.sk-toggleable {\n",
              "  /* Default theme specific background. It is overwritten whether we have a\n",
              "  specific estimator or a Pipeline/ColumnTransformer */\n",
              "  background-color: var(--sklearn-color-background);\n",
              "}\n",
              "\n",
              "/* Toggleable label */\n",
              "#sk-container-id-1 label.sk-toggleable__label {\n",
              "  cursor: pointer;\n",
              "  display: flex;\n",
              "  width: 100%;\n",
              "  margin-bottom: 0;\n",
              "  padding: 0.5em;\n",
              "  box-sizing: border-box;\n",
              "  text-align: center;\n",
              "  align-items: start;\n",
              "  justify-content: space-between;\n",
              "  gap: 0.5em;\n",
              "}\n",
              "\n",
              "#sk-container-id-1 label.sk-toggleable__label .caption {\n",
              "  font-size: 0.6rem;\n",
              "  font-weight: lighter;\n",
              "  color: var(--sklearn-color-text-muted);\n",
              "}\n",
              "\n",
              "#sk-container-id-1 label.sk-toggleable__label-arrow:before {\n",
              "  /* Arrow on the left of the label */\n",
              "  content: \"▸\";\n",
              "  float: left;\n",
              "  margin-right: 0.25em;\n",
              "  color: var(--sklearn-color-icon);\n",
              "}\n",
              "\n",
              "#sk-container-id-1 label.sk-toggleable__label-arrow:hover:before {\n",
              "  color: var(--sklearn-color-text);\n",
              "}\n",
              "\n",
              "/* Toggleable content - dropdown */\n",
              "\n",
              "#sk-container-id-1 div.sk-toggleable__content {\n",
              "  max-height: 0;\n",
              "  max-width: 0;\n",
              "  overflow: hidden;\n",
              "  text-align: left;\n",
              "  /* unfitted */\n",
              "  background-color: var(--sklearn-color-unfitted-level-0);\n",
              "}\n",
              "\n",
              "#sk-container-id-1 div.sk-toggleable__content.fitted {\n",
              "  /* fitted */\n",
              "  background-color: var(--sklearn-color-fitted-level-0);\n",
              "}\n",
              "\n",
              "#sk-container-id-1 div.sk-toggleable__content pre {\n",
              "  margin: 0.2em;\n",
              "  border-radius: 0.25em;\n",
              "  color: var(--sklearn-color-text);\n",
              "  /* unfitted */\n",
              "  background-color: var(--sklearn-color-unfitted-level-0);\n",
              "}\n",
              "\n",
              "#sk-container-id-1 div.sk-toggleable__content.fitted pre {\n",
              "  /* unfitted */\n",
              "  background-color: var(--sklearn-color-fitted-level-0);\n",
              "}\n",
              "\n",
              "#sk-container-id-1 input.sk-toggleable__control:checked~div.sk-toggleable__content {\n",
              "  /* Expand drop-down */\n",
              "  max-height: 200px;\n",
              "  max-width: 100%;\n",
              "  overflow: auto;\n",
              "}\n",
              "\n",
              "#sk-container-id-1 input.sk-toggleable__control:checked~label.sk-toggleable__label-arrow:before {\n",
              "  content: \"▾\";\n",
              "}\n",
              "\n",
              "/* Pipeline/ColumnTransformer-specific style */\n",
              "\n",
              "#sk-container-id-1 div.sk-label input.sk-toggleable__control:checked~label.sk-toggleable__label {\n",
              "  color: var(--sklearn-color-text);\n",
              "  background-color: var(--sklearn-color-unfitted-level-2);\n",
              "}\n",
              "\n",
              "#sk-container-id-1 div.sk-label.fitted input.sk-toggleable__control:checked~label.sk-toggleable__label {\n",
              "  background-color: var(--sklearn-color-fitted-level-2);\n",
              "}\n",
              "\n",
              "/* Estimator-specific style */\n",
              "\n",
              "/* Colorize estimator box */\n",
              "#sk-container-id-1 div.sk-estimator input.sk-toggleable__control:checked~label.sk-toggleable__label {\n",
              "  /* unfitted */\n",
              "  background-color: var(--sklearn-color-unfitted-level-2);\n",
              "}\n",
              "\n",
              "#sk-container-id-1 div.sk-estimator.fitted input.sk-toggleable__control:checked~label.sk-toggleable__label {\n",
              "  /* fitted */\n",
              "  background-color: var(--sklearn-color-fitted-level-2);\n",
              "}\n",
              "\n",
              "#sk-container-id-1 div.sk-label label.sk-toggleable__label,\n",
              "#sk-container-id-1 div.sk-label label {\n",
              "  /* The background is the default theme color */\n",
              "  color: var(--sklearn-color-text-on-default-background);\n",
              "}\n",
              "\n",
              "/* On hover, darken the color of the background */\n",
              "#sk-container-id-1 div.sk-label:hover label.sk-toggleable__label {\n",
              "  color: var(--sklearn-color-text);\n",
              "  background-color: var(--sklearn-color-unfitted-level-2);\n",
              "}\n",
              "\n",
              "/* Label box, darken color on hover, fitted */\n",
              "#sk-container-id-1 div.sk-label.fitted:hover label.sk-toggleable__label.fitted {\n",
              "  color: var(--sklearn-color-text);\n",
              "  background-color: var(--sklearn-color-fitted-level-2);\n",
              "}\n",
              "\n",
              "/* Estimator label */\n",
              "\n",
              "#sk-container-id-1 div.sk-label label {\n",
              "  font-family: monospace;\n",
              "  font-weight: bold;\n",
              "  display: inline-block;\n",
              "  line-height: 1.2em;\n",
              "}\n",
              "\n",
              "#sk-container-id-1 div.sk-label-container {\n",
              "  text-align: center;\n",
              "}\n",
              "\n",
              "/* Estimator-specific */\n",
              "#sk-container-id-1 div.sk-estimator {\n",
              "  font-family: monospace;\n",
              "  border: 1px dotted var(--sklearn-color-border-box);\n",
              "  border-radius: 0.25em;\n",
              "  box-sizing: border-box;\n",
              "  margin-bottom: 0.5em;\n",
              "  /* unfitted */\n",
              "  background-color: var(--sklearn-color-unfitted-level-0);\n",
              "}\n",
              "\n",
              "#sk-container-id-1 div.sk-estimator.fitted {\n",
              "  /* fitted */\n",
              "  background-color: var(--sklearn-color-fitted-level-0);\n",
              "}\n",
              "\n",
              "/* on hover */\n",
              "#sk-container-id-1 div.sk-estimator:hover {\n",
              "  /* unfitted */\n",
              "  background-color: var(--sklearn-color-unfitted-level-2);\n",
              "}\n",
              "\n",
              "#sk-container-id-1 div.sk-estimator.fitted:hover {\n",
              "  /* fitted */\n",
              "  background-color: var(--sklearn-color-fitted-level-2);\n",
              "}\n",
              "\n",
              "/* Specification for estimator info (e.g. \"i\" and \"?\") */\n",
              "\n",
              "/* Common style for \"i\" and \"?\" */\n",
              "\n",
              ".sk-estimator-doc-link,\n",
              "a:link.sk-estimator-doc-link,\n",
              "a:visited.sk-estimator-doc-link {\n",
              "  float: right;\n",
              "  font-size: smaller;\n",
              "  line-height: 1em;\n",
              "  font-family: monospace;\n",
              "  background-color: var(--sklearn-color-background);\n",
              "  border-radius: 1em;\n",
              "  height: 1em;\n",
              "  width: 1em;\n",
              "  text-decoration: none !important;\n",
              "  margin-left: 0.5em;\n",
              "  text-align: center;\n",
              "  /* unfitted */\n",
              "  border: var(--sklearn-color-unfitted-level-1) 1pt solid;\n",
              "  color: var(--sklearn-color-unfitted-level-1);\n",
              "}\n",
              "\n",
              ".sk-estimator-doc-link.fitted,\n",
              "a:link.sk-estimator-doc-link.fitted,\n",
              "a:visited.sk-estimator-doc-link.fitted {\n",
              "  /* fitted */\n",
              "  border: var(--sklearn-color-fitted-level-1) 1pt solid;\n",
              "  color: var(--sklearn-color-fitted-level-1);\n",
              "}\n",
              "\n",
              "/* On hover */\n",
              "div.sk-estimator:hover .sk-estimator-doc-link:hover,\n",
              ".sk-estimator-doc-link:hover,\n",
              "div.sk-label-container:hover .sk-estimator-doc-link:hover,\n",
              ".sk-estimator-doc-link:hover {\n",
              "  /* unfitted */\n",
              "  background-color: var(--sklearn-color-unfitted-level-3);\n",
              "  color: var(--sklearn-color-background);\n",
              "  text-decoration: none;\n",
              "}\n",
              "\n",
              "div.sk-estimator.fitted:hover .sk-estimator-doc-link.fitted:hover,\n",
              ".sk-estimator-doc-link.fitted:hover,\n",
              "div.sk-label-container:hover .sk-estimator-doc-link.fitted:hover,\n",
              ".sk-estimator-doc-link.fitted:hover {\n",
              "  /* fitted */\n",
              "  background-color: var(--sklearn-color-fitted-level-3);\n",
              "  color: var(--sklearn-color-background);\n",
              "  text-decoration: none;\n",
              "}\n",
              "\n",
              "/* Span, style for the box shown on hovering the info icon */\n",
              ".sk-estimator-doc-link span {\n",
              "  display: none;\n",
              "  z-index: 9999;\n",
              "  position: relative;\n",
              "  font-weight: normal;\n",
              "  right: .2ex;\n",
              "  padding: .5ex;\n",
              "  margin: .5ex;\n",
              "  width: min-content;\n",
              "  min-width: 20ex;\n",
              "  max-width: 50ex;\n",
              "  color: var(--sklearn-color-text);\n",
              "  box-shadow: 2pt 2pt 4pt #999;\n",
              "  /* unfitted */\n",
              "  background: var(--sklearn-color-unfitted-level-0);\n",
              "  border: .5pt solid var(--sklearn-color-unfitted-level-3);\n",
              "}\n",
              "\n",
              ".sk-estimator-doc-link.fitted span {\n",
              "  /* fitted */\n",
              "  background: var(--sklearn-color-fitted-level-0);\n",
              "  border: var(--sklearn-color-fitted-level-3);\n",
              "}\n",
              "\n",
              ".sk-estimator-doc-link:hover span {\n",
              "  display: block;\n",
              "}\n",
              "\n",
              "/* \"?\"-specific style due to the `<a>` HTML tag */\n",
              "\n",
              "#sk-container-id-1 a.estimator_doc_link {\n",
              "  float: right;\n",
              "  font-size: 1rem;\n",
              "  line-height: 1em;\n",
              "  font-family: monospace;\n",
              "  background-color: var(--sklearn-color-background);\n",
              "  border-radius: 1rem;\n",
              "  height: 1rem;\n",
              "  width: 1rem;\n",
              "  text-decoration: none;\n",
              "  /* unfitted */\n",
              "  color: var(--sklearn-color-unfitted-level-1);\n",
              "  border: var(--sklearn-color-unfitted-level-1) 1pt solid;\n",
              "}\n",
              "\n",
              "#sk-container-id-1 a.estimator_doc_link.fitted {\n",
              "  /* fitted */\n",
              "  border: var(--sklearn-color-fitted-level-1) 1pt solid;\n",
              "  color: var(--sklearn-color-fitted-level-1);\n",
              "}\n",
              "\n",
              "/* On hover */\n",
              "#sk-container-id-1 a.estimator_doc_link:hover {\n",
              "  /* unfitted */\n",
              "  background-color: var(--sklearn-color-unfitted-level-3);\n",
              "  color: var(--sklearn-color-background);\n",
              "  text-decoration: none;\n",
              "}\n",
              "\n",
              "#sk-container-id-1 a.estimator_doc_link.fitted:hover {\n",
              "  /* fitted */\n",
              "  background-color: var(--sklearn-color-fitted-level-3);\n",
              "}\n",
              "</style><div id=\"sk-container-id-1\" class=\"sk-top-container\"><div class=\"sk-text-repr-fallback\"><pre>RandomForestClassifier(random_state=42)</pre><b>In a Jupyter environment, please rerun this cell to show the HTML representation or trust the notebook. <br />On GitHub, the HTML representation is unable to render, please try loading this page with nbviewer.org.</b></div><div class=\"sk-container\" hidden><div class=\"sk-item\"><div class=\"sk-estimator fitted sk-toggleable\"><input class=\"sk-toggleable__control sk-hidden--visually\" id=\"sk-estimator-id-1\" type=\"checkbox\" checked><label for=\"sk-estimator-id-1\" class=\"sk-toggleable__label fitted sk-toggleable__label-arrow\"><div><div>RandomForestClassifier</div></div><div><a class=\"sk-estimator-doc-link fitted\" rel=\"noreferrer\" target=\"_blank\" href=\"https://scikit-learn.org/1.6/modules/generated/sklearn.ensemble.RandomForestClassifier.html\">?<span>Documentation for RandomForestClassifier</span></a><span class=\"sk-estimator-doc-link fitted\">i<span>Fitted</span></span></div></label><div class=\"sk-toggleable__content fitted\"><pre>RandomForestClassifier(random_state=42)</pre></div> </div></div></div></div>"
            ]
          },
          "metadata": {},
          "execution_count": 14
        }
      ]
    },
    {
      "cell_type": "code",
      "source": [
        "# Make predictions and evaluate the classifier\n",
        "y_pred = clf.predict(X_test)\n",
        "accuracy = accuracy_score(y_test, y_pred)\n",
        "print(f\"Test Accuracy: {accuracy*100:.2f}%\")"
      ],
      "metadata": {
        "colab": {
          "base_uri": "https://localhost:8080/"
        },
        "id": "3SpC6v8pFYXP",
        "outputId": "283b4880-d707-4cf2-8bc5-0bf0d7f4380a"
      },
      "execution_count": 15,
      "outputs": [
        {
          "output_type": "stream",
          "name": "stdout",
          "text": [
            "Test Accuracy: 98.17%\n"
          ]
        }
      ]
    },
    {
      "cell_type": "code",
      "source": [
        "# Confusion Matrix\n",
        "cm = confusion_matrix(y_test, y_pred)\n",
        "print(\"Confusion Matrix:\")\n",
        "print(cm)\n",
        "print(\"-\"*50)\n",
        "\n",
        "# Classification Report\n",
        "cr = classification_report(y_test, y_pred, target_names=le.classes_)\n",
        "print(\"Classification Report:\")\n",
        "print(cr)\n",
        "print(\"-\"*50)\n",
        "\n",
        "# Perform 5-fold cross-validation\n",
        "rf = RandomForestClassifier(n_estimators=100, random_state=42)\n",
        "cv_scores = cross_val_score(rf, X, y, cv=5, scoring='accuracy')\n",
        "print(\"Cross-validation scores:\", cv_scores)\n",
        "print(\"Mean CV score:\", cv_scores.mean())"
      ],
      "metadata": {
        "colab": {
          "base_uri": "https://localhost:8080/"
        },
        "id": "Gee7AwbA7ils",
        "outputId": "2df108ec-82d5-4d82-f12f-82ee35a404a7"
      },
      "execution_count": 16,
      "outputs": [
        {
          "output_type": "stream",
          "name": "stdout",
          "text": [
            "Confusion Matrix:\n",
            "[[147   6]\n",
            " [  0 175]]\n",
            "--------------------------------------------------\n",
            "Classification Report:\n",
            "              precision    recall  f1-score   support\n",
            "\n",
            "    diseased       1.00      0.96      0.98       153\n",
            "     healthy       0.97      1.00      0.98       175\n",
            "\n",
            "    accuracy                           0.98       328\n",
            "   macro avg       0.98      0.98      0.98       328\n",
            "weighted avg       0.98      0.98      0.98       328\n",
            "\n",
            "--------------------------------------------------\n",
            "Cross-validation scores: [0.99695122 0.99082569 0.99388379 0.99082569 0.98776758]\n",
            "Mean CV score: 0.9920507943611547\n"
          ]
        }
      ]
    },
    {
      "cell_type": "markdown",
      "source": [
        "### Visualization"
      ],
      "metadata": {
        "id": "L23uMXRqDdKp"
      }
    },
    {
      "cell_type": "code",
      "source": [
        "import matplotlib.pyplot as plt\n",
        "import seaborn as sns\n",
        "import numpy as np\n",
        "\n",
        "importances = clf.feature_importances_\n",
        "indices = np.argsort(importances)[::-1]\n",
        "features = X.columns\n",
        "\n",
        "# Set the style\n",
        "sns.set_palette(\"husl\")\n",
        "\n",
        "# Create figure and axis\n",
        "fig, ax = plt.subplots(figsize=(12, 6))\n",
        "\n",
        "# Create the bar plot\n",
        "bars = ax.bar(range(len(importances)),\n",
        "              importances[indices],\n",
        "              color=sns.color_palette(\"Blues_r\", len(importances)),\n",
        "              align=\"center\")\n",
        "\n",
        "# Customize the plot\n",
        "ax.set_title(\"Feature Importances\", fontsize=14, pad=20)\n",
        "ax.set_xlabel(\"Features\", fontsize=12, labelpad=10)\n",
        "ax.set_ylabel(\"Importance Score\", fontsize=12, labelpad=10)\n",
        "\n",
        "# Customize x-axis\n",
        "ax.set_xticks(range(len(importances)))\n",
        "ax.set_xticklabels(features[indices], rotation=45, ha='right')\n",
        "ax.set_xlim([-0.5, len(importances)-0.5])\n",
        "\n",
        "# Add value labels on top of bars\n",
        "for bar in bars:\n",
        "    height = bar.get_height()\n",
        "    # ax.text(bar.get_x() + bar.get_width()/2., height,\n",
        "    #         f'{height:.3f}',\n",
        "    #         ha='center', va='bottom')\n",
        "\n",
        "# Add grid for better readability\n",
        "ax.yaxis.grid(True, linestyle='--', alpha=0.7)\n",
        "ax.set_axisbelow(True)\n",
        "\n",
        "# Adjust layout to prevent label cutoff\n",
        "plt.tight_layout()\n",
        "\n",
        "# Show plot\n",
        "plt.show()"
      ],
      "metadata": {
        "id": "EsvTW6PSwvWU"
      },
      "execution_count": null,
      "outputs": []
    },
    {
      "cell_type": "code",
      "source": [
        "import seaborn as sns\n",
        "from sklearn.metrics import confusion_matrix\n",
        "cm = confusion_matrix(y_test, y_pred)\n",
        "\n",
        "# Plot the confusion matrix using a heatmap\n",
        "plt.figure(figsize=(6, 4))\n",
        "sns.heatmap(cm, annot=True, fmt=\"d\", cmap=\"Blues\",\n",
        "            xticklabels=le.classes_, yticklabels=le.classes_)\n",
        "plt.xlabel(\"Predicted Label\")\n",
        "plt.ylabel(\"True Label\")\n",
        "plt.title(\"Confusion Matrix\")\n",
        "plt.show()"
      ],
      "metadata": {
        "id": "hv22e7Of3qKe"
      },
      "execution_count": null,
      "outputs": []
    },
    {
      "cell_type": "code",
      "source": [],
      "metadata": {
        "id": "7durqJd47j3z"
      },
      "execution_count": null,
      "outputs": []
    },
    {
      "cell_type": "markdown",
      "source": [
        "## SVM"
      ],
      "metadata": {
        "id": "_nRSoWExCBdR"
      }
    },
    {
      "cell_type": "code",
      "source": [
        "from sklearn.svm import SVC\n",
        "from sklearn.pipeline import Pipeline\n",
        "from sklearn.preprocessing import StandardScaler\n",
        "from sklearn.model_selection import GridSearchCV\n",
        "from sklearn.model_selection import cross_val_score"
      ],
      "metadata": {
        "id": "gfHnvh6TDIb0"
      },
      "execution_count": 17,
      "outputs": []
    },
    {
      "cell_type": "code",
      "source": [
        "# Create a pipeline that first scales the data then trains an SVM\n",
        "svm_pipeline = Pipeline([\n",
        "    ('scaler', StandardScaler()),\n",
        "    ('svc', SVC(kernel='rbf', probability=True, random_state=42))\n",
        "])\n",
        "\n",
        "# Define a grid of hyperparameters to search over\n",
        "param_grid = {\n",
        "    'svc__C': [0.1, 1, 10, 100],\n",
        "    'svc__gamma': [0.001, 0.01, 0.1, 1],\n",
        "}\n",
        "\n",
        "# Set up grid search with 5-fold cross-validation\n",
        "grid_search = GridSearchCV(svm_pipeline, param_grid, cv=5, n_jobs=-1, verbose=1)\n",
        "grid_search.fit(X_train, y_train)\n",
        "\n",
        "print(\"Best parameters found:\", grid_search.best_params_)\n",
        "print(\"Best cross validation accuracy:\", grid_search.best_score_)"
      ],
      "metadata": {
        "colab": {
          "base_uri": "https://localhost:8080/"
        },
        "id": "drYXAEJYCbar",
        "outputId": "fd6e1d0b-da11-4449-cecc-9582a8454d7c"
      },
      "execution_count": 18,
      "outputs": [
        {
          "output_type": "stream",
          "name": "stdout",
          "text": [
            "Fitting 5 folds for each of 16 candidates, totalling 80 fits\n",
            "Best parameters found: {'svc__C': 1, 'svc__gamma': 0.1}\n",
            "Best cross validation accuracy: 0.9984732824427482\n"
          ]
        }
      ]
    },
    {
      "cell_type": "code",
      "source": [
        "# Predict on the test set and evaluate accuracy\n",
        "y_pred_svm = grid_search.predict(X_test)\n",
        "accuracy_svm = accuracy_score(y_test, y_pred_svm)\n",
        "svm = grid_search.best_estimator_\n",
        "print(f\"SVM Test Accuracy: {accuracy_svm*100:.2f}%\")"
      ],
      "metadata": {
        "colab": {
          "base_uri": "https://localhost:8080/"
        },
        "id": "TMRMpjN3ER6g",
        "outputId": "e84fbba0-e5b4-4b07-ef09-ffc9680b4f68"
      },
      "execution_count": 19,
      "outputs": [
        {
          "output_type": "stream",
          "name": "stdout",
          "text": [
            "SVM Test Accuracy: 98.48%\n"
          ]
        }
      ]
    },
    {
      "cell_type": "code",
      "source": [
        "# Confusion Matrix\n",
        "cm = confusion_matrix(y_test, y_pred_svm)\n",
        "print(\"Confusion Matrix:\")\n",
        "print(cm)\n",
        "\n",
        "# Classification Report\n",
        "cr = classification_report(y_test, y_pred_svm, target_names=le.classes_)\n",
        "print(\"Classification Report:\")\n",
        "print(cr)\n",
        "\n",
        "# Evaluate the best SVM pipeline using cross-validation on the training set\n",
        "cv_scores_svm = cross_val_score(grid_search.best_estimator_, X_train, y_train, cv=5, scoring='accuracy')\n",
        "print(\"SVM Cross-validation scores:\", cv_scores_svm)\n",
        "print(\"Mean SVM CV score:\", cv_scores_svm.mean())"
      ],
      "metadata": {
        "colab": {
          "base_uri": "https://localhost:8080/"
        },
        "id": "WblvEqXK-J7H",
        "outputId": "fd36017c-eb23-4800-de6e-ab25e5cd7053"
      },
      "execution_count": 23,
      "outputs": [
        {
          "output_type": "stream",
          "name": "stdout",
          "text": [
            "Confusion Matrix:\n",
            "[[148   5]\n",
            " [  0 175]]\n",
            "Classification Report:\n",
            "              precision    recall  f1-score   support\n",
            "\n",
            "    diseased       1.00      0.97      0.98       153\n",
            "     healthy       0.97      1.00      0.99       175\n",
            "\n",
            "    accuracy                           0.98       328\n",
            "   macro avg       0.99      0.98      0.98       328\n",
            "weighted avg       0.99      0.98      0.98       328\n",
            "\n",
            "SVM Cross-validation scores: [1.         0.99618321 0.99618321 1.         1.        ]\n",
            "Mean SVM CV score: 0.9984732824427482\n"
          ]
        }
      ]
    },
    {
      "cell_type": "markdown",
      "source": [
        "### Visualization"
      ],
      "metadata": {
        "id": "5eIqWzMKEkj7"
      }
    },
    {
      "cell_type": "code",
      "source": [
        "import numpy as np\n",
        "import matplotlib.pyplot as plt\n",
        "import seaborn as sns\n",
        "\n",
        "# Extract the results from grid search\n",
        "cv_results = grid_search.cv_results_\n",
        "C_values = param_grid['svc__C']\n",
        "gamma_values = param_grid['svc__gamma']\n",
        "\n",
        "scores = cv_results['mean_test_score'].reshape(len(C_values), len(gamma_values))\n",
        "fig, ax1 = plt.subplots(1, figsize=(15, 6))\n",
        "\n",
        "sns.heatmap(scores,\n",
        "            xticklabels=gamma_values,\n",
        "            yticklabels=C_values,\n",
        "            annot=True,\n",
        "            fmt='.3f',\n",
        "            cmap='viridis',\n",
        "            ax=ax1)\n",
        "\n",
        "ax1.set_title('Grid Search Scores (Cross-Validation Accuracy)')\n",
        "ax1.set_xlabel('gamma')\n",
        "ax1.set_ylabel('C')"
      ],
      "metadata": {
        "id": "OvnQpnceETWB"
      },
      "execution_count": null,
      "outputs": []
    },
    {
      "cell_type": "code",
      "source": [
        "X, Y = np.meshgrid(np.log10(gamma_values), np.log10(C_values))\n",
        "ax2 = plt.subplot(122, projection='3d')\n",
        "surf = ax2.plot_surface(X, Y, scores,\n",
        "                       cmap='viridis',\n",
        "                       edgecolor='none')\n",
        "\n",
        "ax2.set_title('3D Surface Plot of Grid Search Results')\n",
        "ax2.set_xlabel('log10(gamma)')\n",
        "ax2.set_ylabel('log10(C)')\n",
        "ax2.set_zlabel('Accuracy')\n",
        "\n",
        "fig.colorbar(surf, ax=ax2, shrink=0.5, aspect=5)\n",
        "plt.tight_layout()\n",
        "plt.show()"
      ],
      "metadata": {
        "id": "4M0zRubmEmz3"
      },
      "execution_count": null,
      "outputs": []
    },
    {
      "cell_type": "code",
      "source": [],
      "metadata": {
        "id": "J6jgETVuExLp"
      },
      "execution_count": null,
      "outputs": []
    },
    {
      "cell_type": "markdown",
      "source": [
        "## Ensemble"
      ],
      "metadata": {
        "id": "iNpmlkLIFNfP"
      }
    },
    {
      "cell_type": "code",
      "source": [
        "from sklearn.ensemble import VotingClassifier\n",
        "\n",
        "# Create an ensemble classifier with soft voting\n",
        "ensemble_model = VotingClassifier(\n",
        "    estimators=[('rf', clf), ('svm', svm)],\n",
        "    voting='soft',\n",
        "    weights=[3, 2]\n",
        ")\n",
        "\n",
        "# Train the ensemble model on the training data\n",
        "ensemble_model.fit(X_train, y_train)\n",
        "\n",
        "# Predict on the test set and evaluate accuracy\n",
        "y_pred_ensemble = ensemble_model.predict(X_test)\n",
        "accuracy_ensemble = accuracy_score(y_test, y_pred_ensemble)\n",
        "print(f\"Ensemble Model Test Accuracy: {accuracy_ensemble*100:.2f}%\")"
      ],
      "metadata": {
        "colab": {
          "base_uri": "https://localhost:8080/"
        },
        "id": "8CJGyImsFOuI",
        "outputId": "c54eb263-35ed-4a84-847e-f379fecd8471"
      },
      "execution_count": 24,
      "outputs": [
        {
          "output_type": "stream",
          "name": "stdout",
          "text": [
            "Ensemble Model Test Accuracy: 98.78%\n"
          ]
        }
      ]
    },
    {
      "cell_type": "markdown",
      "source": [
        "# Try out"
      ],
      "metadata": {
        "id": "4eMXNNm4GoXn"
      }
    },
    {
      "cell_type": "code",
      "source": [
        "def predict_lung_cancer_probability(wav_file, ensemble_model, feature_columns, label_encoder):\n",
        "    # Extract features using the same function as for training\n",
        "    feats = extract_features(wav_file)\n",
        "    if feats is None:\n",
        "        print(f\"Error extracting features from {wav_file}.\")\n",
        "        return None\n",
        "\n",
        "    input_data = pd.DataFrame([feats])\n",
        "    input_data = input_data.reindex(columns=feature_columns, fill_value=0)\n",
        "\n",
        "    # Predict probabilities using the ensemble model\n",
        "    probas = ensemble_model.predict_proba(input_data)\n",
        "    diseased_index = np.where(label_encoder.classes_ == 'diseased')[0][0]\n",
        "    probability_diseased = probas[0, diseased_index]\n",
        "    return probability_diseased"
      ],
      "metadata": {
        "id": "jHbPGPLCGpQX"
      },
      "execution_count": 25,
      "outputs": []
    },
    {
      "cell_type": "code",
      "source": [
        "wav_tests = glob.glob('/content/test/*.wav')\n",
        "feature_columns = df_features.drop(\"label\", axis=1).columns"
      ],
      "metadata": {
        "id": "8uNXviKgGvlX"
      },
      "execution_count": 26,
      "outputs": []
    },
    {
      "cell_type": "code",
      "source": [
        "for test in wav_tests:\n",
        "    probability = predict_lung_cancer_probability(test, ensemble_model, feature_columns, le)\n",
        "    if probability is not None:\n",
        "        print(f\"Probability of lung cancer: {probability*100:.2f}%\")"
      ],
      "metadata": {
        "colab": {
          "base_uri": "https://localhost:8080/"
        },
        "id": "RmmpPk1SdUAH",
        "outputId": "1461d046-54b7-4938-87e7-1f1b59bb589c"
      },
      "execution_count": 27,
      "outputs": [
        {
          "output_type": "stream",
          "name": "stdout",
          "text": [
            "Probability of lung cancer: 97.58%\n",
            "Probability of lung cancer: 98.18%\n",
            "Probability of lung cancer: 98.78%\n"
          ]
        }
      ]
    },
    {
      "cell_type": "code",
      "source": [
        "from sklearn.calibration import CalibratedClassifierCV\n",
        "\n",
        "# Wrap your ensemble classifier with calibration\n",
        "calibrated_ensemble = CalibratedClassifierCV(ensemble_model, cv=5, method='isotonic')\n",
        "calibrated_ensemble.fit(X_train, y_train)\n",
        "\n",
        "# Now predict probabilities on new samples\n",
        "for test in wav_tests:\n",
        "    probability = predict_lung_cancer_probability(test, calibrated_ensemble, feature_columns, le)\n",
        "    if probability is not None:\n",
        "        print(f\"Calibrated probability of lung cancer: {probability*100:.2f}%\")"
      ],
      "metadata": {
        "id": "HswO7ldPbTgS"
      },
      "execution_count": null,
      "outputs": []
    },
    {
      "cell_type": "code",
      "source": [],
      "metadata": {
        "id": "rtl7x5_XdbEA"
      },
      "execution_count": null,
      "outputs": []
    }
  ]
}