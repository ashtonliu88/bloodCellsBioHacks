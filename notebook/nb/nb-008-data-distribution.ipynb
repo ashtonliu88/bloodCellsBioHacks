{
  "nbformat": 4,
  "nbformat_minor": 0,
  "metadata": {
    "colab": {
      "provenance": []
    },
    "kernelspec": {
      "name": "python3",
      "display_name": "Python 3"
    },
    "language_info": {
      "name": "python"
    }
  },
  "cells": [
    {
      "cell_type": "markdown",
      "source": [
        "# Importing libraries and data"
      ],
      "metadata": {
        "id": "cFXtKccYpqI8"
      }
    },
    {
      "cell_type": "code",
      "source": [
        "import os\n",
        "import glob\n",
        "\n",
        "TRAINING_ONLY = True"
      ],
      "metadata": {
        "id": "cOOYT_Vdh3H0"
      },
      "execution_count": 60,
      "outputs": []
    },
    {
      "cell_type": "code",
      "execution_count": 61,
      "metadata": {
        "colab": {
          "base_uri": "https://localhost:8080/"
        },
        "id": "4rFvmC_TN6uq",
        "outputId": "c96bf4f1-1c7c-47a9-9cbd-09a19d2285be"
      },
      "outputs": [
        {
          "output_type": "stream",
          "name": "stdout",
          "text": [
            "Path to dataset files: /root/.cache/kagglehub/datasets/vbookshelf/respiratory-sound-database/versions/2\n"
          ]
        }
      ],
      "source": [
        "import kagglehub\n",
        "\n",
        "# Download latest version\n",
        "path = kagglehub.dataset_download(\"vbookshelf/respiratory-sound-database\")\n",
        "\n",
        "print(\"Path to dataset files:\", path)"
      ]
    },
    {
      "cell_type": "code",
      "source": [
        "dataset_path = '/root/.cache/kagglehub/datasets/vbookshelf/respiratory-sound-database/versions/2'\n",
        "\n",
        "audio_path = os.path.join(dataset_path, 'respiratory_sound_database','Respiratory_Sound_Database', 'audio_and_txt_files')\n",
        "audio_files = glob.glob(os.path.join(audio_path, '**/*.wav'), recursive=True)\n",
        "\n",
        "# print(glob.glob(os.path.join(dataset_path, '*'), recursive=True))\n",
        "\n",
        "print(f\"Found {len(audio_files)} audio files.\")"
      ],
      "metadata": {
        "colab": {
          "base_uri": "https://localhost:8080/"
        },
        "id": "NWY4eMRZhFKo",
        "outputId": "e2ca8acd-4af5-4021-ca90-75922a62aab2"
      },
      "execution_count": 62,
      "outputs": [
        {
          "output_type": "stream",
          "name": "stdout",
          "text": [
            "Found 920 audio files.\n"
          ]
        }
      ]
    },
    {
      "cell_type": "markdown",
      "source": [
        "# EDA"
      ],
      "metadata": {
        "id": "pm7xRNYGPula"
      }
    },
    {
      "cell_type": "markdown",
      "source": [
        "# Data Preparation"
      ],
      "metadata": {
        "id": "_xhx_zdhS3c3"
      }
    },
    {
      "cell_type": "code",
      "source": [
        "import os\n",
        "import glob\n",
        "import random\n",
        "import numpy as np\n",
        "import pandas as pd\n",
        "import librosa\n",
        "\n",
        "import matplotlib.pyplot as plt\n",
        "import seaborn as sns\n",
        "\n",
        "import tensorflow as tf\n",
        "from tensorflow.keras import layers, models\n",
        "\n",
        "from sklearn.model_selection import train_test_split\n",
        "from sklearn.ensemble import RandomForestClassifier\n",
        "from sklearn.metrics import accuracy_score\n",
        "from sklearn.preprocessing import LabelEncoder"
      ],
      "metadata": {
        "id": "5IGeLxDBlxxi"
      },
      "execution_count": 63,
      "outputs": []
    },
    {
      "cell_type": "code",
      "source": [
        "patient_diagnosis = os.path.join(dataset_path, 'demographic_info.txt')\n",
        "col_names = ['patient_id', 'age', 'sex', 'adult_bmi', 'child_weight', 'child_height']\n",
        "df_demo = pd.read_csv(patient_diagnosis, sep=\" \", header=None, names=col_names)\n",
        "\n",
        "\n",
        "# Load the disease diagnosis information\n",
        "diagnosis_mapping = {}\n",
        "diagnosis_file = os.path.join(dataset_path, 'demographic_info.txt')\n",
        "with open(diagnosis_file, 'r') as f:\n",
        "    for line in f:\n",
        "        parts_diag = line.strip().split()\n",
        "        if len(parts_diag) >= 2:\n",
        "            patient_id = parts_diag[0]\n",
        "            diagnosis = parts_diag[1]\n",
        "            diagnosis_mapping[patient_id] = diagnosis"
      ],
      "metadata": {
        "id": "SvMkorp_1Ka9"
      },
      "execution_count": 64,
      "outputs": []
    },
    {
      "cell_type": "code",
      "source": [
        "patient_diagnosis = os.path.join(dataset_path, 'respiratory_sound_database','Respiratory_Sound_Database', 'patient_diagnosis.csv')\n",
        "df_diag = pd.read_csv(patient_diagnosis, header=None, names=['patient_id', 'diagnosis'])\n",
        "print(df_diag['diagnosis'].value_counts())"
      ],
      "metadata": {
        "id": "jeC0T54n1M3s",
        "colab": {
          "base_uri": "https://localhost:8080/"
        },
        "outputId": "45b0ab5b-c4fe-4193-b4cd-9981d99aa7c9"
      },
      "execution_count": 65,
      "outputs": [
        {
          "output_type": "stream",
          "name": "stdout",
          "text": [
            "diagnosis\n",
            "COPD              64\n",
            "Healthy           26\n",
            "URTI              14\n",
            "Bronchiectasis     7\n",
            "Pneumonia          6\n",
            "Bronchiolitis      6\n",
            "LRTI               2\n",
            "Asthma             1\n",
            "Name: count, dtype: int64\n"
          ]
        }
      ]
    },
    {
      "cell_type": "code",
      "source": [
        "def extract_features(file_path, sr=22050, n_mfcc=13):\n",
        "    \"\"\"\n",
        "    Extract audio features including MFCCs, spectral centroid,\n",
        "    zero crossing rate, spectral bandwidth, and chroma features.\n",
        "    \"\"\"\n",
        "    try:\n",
        "        y, sr = librosa.load(file_path, sr=sr)\n",
        "    except Exception as e:\n",
        "        print(f\"Error loading {file_path}: {e}\")\n",
        "        return None\n",
        "\n",
        "    if y.size == 0:\n",
        "        print(f\"File {file_path} is empty.\")\n",
        "        return None\n",
        "\n",
        "    # MFCCs\n",
        "    mfcc = librosa.feature.mfcc(y=y, sr=sr, n_mfcc=n_mfcc)\n",
        "    mfcc_mean = np.mean(mfcc, axis=1)\n",
        "    mfcc_std = np.std(mfcc, axis=1)\n",
        "\n",
        "    # Spectral centroid\n",
        "    spec_centroid = librosa.feature.spectral_centroid(y=y, sr=sr)\n",
        "    spec_centroid_mean = np.mean(spec_centroid)\n",
        "    spec_centroid_std = np.std(spec_centroid)\n",
        "\n",
        "    # Zero Crossing Rate\n",
        "    zcr = librosa.feature.zero_crossing_rate(y)\n",
        "    zcr_mean = np.mean(zcr)\n",
        "    zcr_std = np.std(zcr)\n",
        "\n",
        "    # Spectral bandwidth\n",
        "    spec_bandwidth = librosa.feature.spectral_bandwidth(y=y, sr=sr)\n",
        "    spec_bandwidth_mean = np.mean(spec_bandwidth)\n",
        "    spec_bandwidth_std = np.std(spec_bandwidth)\n",
        "\n",
        "    # Chroma features\n",
        "    chroma = librosa.feature.chroma_stft(y=y, sr=sr)\n",
        "    chroma_mean = np.mean(chroma, axis=1)\n",
        "    chroma_std = np.std(chroma, axis=1)\n",
        "\n",
        "    # Combine features into a dictionary\n",
        "    features = {}\n",
        "    for i in range(n_mfcc):\n",
        "        features[f'mfcc_{i+1}_mean'] = mfcc_mean[i]\n",
        "        features[f'mfcc_{i+1}_std'] = mfcc_std[i]\n",
        "\n",
        "    features['spec_centroid_mean'] = spec_centroid_mean\n",
        "    features['spec_centroid_std'] = spec_centroid_std\n",
        "    features['zcr_mean'] = zcr_mean\n",
        "    features['zcr_std'] = zcr_std\n",
        "    features['spec_bandwidth_mean'] = spec_bandwidth_mean\n",
        "    features['spec_bandwidth_std'] = spec_bandwidth_std\n",
        "\n",
        "    for i in range(chroma.shape[0]):\n",
        "        features[f'chroma_{i+1}_mean'] = chroma_mean[i]\n",
        "        features[f'chroma_{i+1}_std'] = chroma_std[i]\n",
        "\n",
        "    return features"
      ],
      "metadata": {
        "id": "MHy3Pt81hd-J"
      },
      "execution_count": 66,
      "outputs": []
    },
    {
      "cell_type": "code",
      "source": [
        "# Augmentation functions (no redefinition of time_stretch)\n",
        "def pitch_shift(y, sr, n_steps=4):\n",
        "    \"\"\"Pitch shift the audio signal by n_steps semitones.\"\"\"\n",
        "    return librosa.effects.pitch_shift(y, sr=sr, n_steps=n_steps)\n",
        "\n",
        "def add_noise(y, noise_level=0.005):\n",
        "    \"\"\"Inject random noise into the audio signal.\"\"\"\n",
        "    noise = np.random.randn(len(y)) * noise_level\n",
        "    return y + noise\n",
        "\n",
        "def change_volume(y, gain=1.5):\n",
        "    \"\"\"Increase or decrease the volume by a certain gain factor.\"\"\"\n",
        "    return y * gain\n",
        "\n",
        "def apply_random_augmentation(y, sr):\n",
        "    \"\"\"Randomly apply one of the augmentations.\"\"\"\n",
        "    augmentation_type = random.choice([\"time_stretch\", \"pitch_shift\", \"add_noise\", \"change_volume\", None])\n",
        "\n",
        "    if augmentation_type == \"time_stretch\":\n",
        "        rate = random.uniform(0.8, 1.5)\n",
        "        y = librosa.effects.time_stretch(y, rate=rate)\n",
        "    elif augmentation_type == \"pitch_shift\":\n",
        "        y = pitch_shift(y, sr, n_steps=random.randint(-5, 5))\n",
        "    elif augmentation_type == \"add_noise\":\n",
        "        y = add_noise(y, noise_level=random.uniform(0.001, 0.01))\n",
        "    elif augmentation_type == \"change_volume\":\n",
        "        y = change_volume(y, gain=random.uniform(0.5, 2.0))\n",
        "\n",
        "    return y"
      ],
      "metadata": {
        "id": "7m0RywB397l8"
      },
      "execution_count": 67,
      "outputs": []
    },
    {
      "cell_type": "code",
      "source": [
        "feature_list = []\n",
        "labels = []\n",
        "\n",
        "for file in audio_files:\n",
        "    feats = extract_features(file)\n",
        "    if feats is None:\n",
        "        continue\n",
        "    feature_list.append(feats)\n",
        "\n",
        "    # Extract patient ID from the file name (first part)\n",
        "    file_name = os.path.basename(file)\n",
        "    parts = file_name.split('_')\n",
        "    if len(parts) >= 1:\n",
        "        patient_id = parts[0]\n",
        "        diagnosis_row = df_diag[df_diag['patient_id'] == int(patient_id)]\n",
        "\n",
        "        if not diagnosis_row.empty:\n",
        "            diagnosis = diagnosis_row['diagnosis'].values[0]\n",
        "\n",
        "            if diagnosis == \"Healthy\":\n",
        "                label = \"healthy\"\n",
        "            elif diagnosis == 'COPD':\n",
        "              label = 'COPD'\n",
        "            elif diagnosis == 'LRTI':\n",
        "              label = 'LRTI'\n",
        "            elif diagnosis == 'URTI':\n",
        "              label = 'URTI'\n",
        "            elif diagnosis == 'Bronchiectasis':\n",
        "              label = 'Bronchiectasis'\n",
        "            elif diagnosis == 'Pneumonia':\n",
        "              label = 'Pneumonia'\n",
        "            elif diagnosis == 'Bronchiolitis':\n",
        "              label = 'Bronchiolitis'\n",
        "            else:\n",
        "                label = \"unknown\"\n",
        "        else:\n",
        "            label = \"unknown\"\n",
        "            print(f\"Warning: Missing diagnosis for patient {patient_id}. Label set to 'unknown'.\")\n",
        "\n",
        "    else:\n",
        "        label = \"unknown\"\n",
        "\n",
        "    labels.append(label)"
      ],
      "metadata": {
        "colab": {
          "base_uri": "https://localhost:8080/"
        },
        "id": "C_R5SzDtvWfC",
        "outputId": "ed3d01fd-3f19-4e2c-c829-e68d3c59b62e"
      },
      "execution_count": 68,
      "outputs": [
        {
          "output_type": "stream",
          "name": "stderr",
          "text": [
            "/usr/local/lib/python3.11/dist-packages/librosa/core/pitch.py:101: UserWarning: Trying to estimate tuning from empty frequency set.\n",
            "  return pitch_tuning(\n"
          ]
        }
      ]
    },
    {
      "cell_type": "code",
      "source": [
        "# Create DataFrame from features and labels\n",
        "df_features = pd.DataFrame(feature_list)\n",
        "df_features['label'] = labels\n",
        "\n",
        "df_features = df_features[df_features['label'] != 'unknown']\n",
        "\n",
        "# Debug: Check label distribution before filtering\n",
        "print(\"Feature DataFrame shape:\", df_features.shape)\n",
        "print(\"-\"*50)\n",
        "print(df_features['label'].value_counts())\n",
        "# print(\"-\"*50)\n",
        "# print(df_features.head())"
      ],
      "metadata": {
        "colab": {
          "base_uri": "https://localhost:8080/"
        },
        "id": "4saZheT1oWO7",
        "outputId": "5c04d4e2-90b3-4320-fba0-e814922c358c"
      },
      "execution_count": 101,
      "outputs": [
        {
          "output_type": "stream",
          "name": "stdout",
          "text": [
            "Feature DataFrame shape: (919, 57)\n",
            "--------------------------------------------------\n",
            "label\n",
            "COPD              793\n",
            "Pneumonia          37\n",
            "healthy            35\n",
            "URTI               23\n",
            "Bronchiectasis     16\n",
            "Bronchiolitis      13\n",
            "LRTI                2\n",
            "Name: count, dtype: int64\n",
            "['COPD' 'healthy' 'Pneumonia' 'URTI' 'Bronchiectasis' 'Bronchiolitis'\n",
            " 'LRTI']\n"
          ]
        }
      ]
    },
    {
      "cell_type": "code",
      "source": [
        "fig, axes = plt.subplots(nrows=len(labels), ncols=1, figsize=(10, 12))\n",
        "\n",
        "for i, label in enumerate(labels):\n",
        "    label_data = df_features[df_features['label'] == label]\n",
        "    ax = axes[i] if len(labels) > 1 else axes\n",
        "    ax.set_title(f'{label} Feature Distribution')\n",
        "\n",
        "    # Plot histograms for MFCC mean and std features\n",
        "    for feature in label_data.columns[:-1]:\n",
        "        ax.hist(label_data[feature], bins=20, alpha=0.6, label=feature)\n",
        "\n",
        "    ax.set_ylabel(\"Frequency\")\n",
        "    ax.set_xlabel(\"Value\")\n",
        "    # ax.legend()\n",
        "\n",
        "plt.tight_layout()\n",
        "plt.show()"
      ],
      "metadata": {
        "colab": {
          "base_uri": "https://localhost:8080/",
          "height": 1000
        },
        "id": "p2Iee5xEdemH",
        "outputId": "cd896599-d57f-4143-e4da-7c755d159f9f"
      },
      "execution_count": 120,
      "outputs": [
        {
          "output_type": "display_data",
          "data": {
            "text/plain": [
              "<Figure size 1000x1200 with 7 Axes>"
            ],
            "image/png": "[encoded data removed]"
          },
          "metadata": {}
        }
      ]
    },
    {
      "cell_type": "code",
      "source": [
        "target_samples = 500\n",
        "\n",
        "# Separate the data by label\n",
        "df_balanced = pd.DataFrame()\n",
        "\n",
        "for label in df_features['label'].unique():\n",
        "    class_data = df_features[df_features['label'] == label]\n",
        "\n",
        "    if class_data.shape[0] < target_samples:\n",
        "        oversampled_data = class_data.sample(target_samples, replace=True)\n",
        "        df_balanced = pd.concat([df_balanced, oversampled_data], axis=0)\n",
        "    else:\n",
        "        df_balanced = pd.concat([df_balanced, class_data], axis=0)\n",
        "\n",
        "# Shuffle the dataset to mix the oversampled data\n",
        "df_balanced = df_balanced.sample(frac=1).reset_index(drop=True)\n",
        "\n",
        "# Check the new label distribution\n",
        "print(\"Balanced DataFrame shape:\", df_balanced.shape)\n",
        "print(\"-\"*50)\n",
        "print(df_balanced['label'].value_counts())"
      ],
      "metadata": {
        "colab": {
          "base_uri": "https://localhost:8080/"
        },
        "id": "BipjdqRm_7wA",
        "outputId": "605068e3-965d-4a8b-8178-962caa8a37bd"
      },
      "execution_count": 70,
      "outputs": [
        {
          "output_type": "stream",
          "name": "stdout",
          "text": [
            "Balanced DataFrame shape: (3793, 57)\n",
            "--------------------------------------------------\n",
            "label\n",
            "COPD              793\n",
            "Pneumonia         500\n",
            "Bronchiectasis    500\n",
            "healthy           500\n",
            "LRTI              500\n",
            "Bronchiolitis     500\n",
            "URTI              500\n",
            "Name: count, dtype: int64\n"
          ]
        }
      ]
    },
    {
      "cell_type": "code",
      "source": [
        "from sklearn.preprocessing import LabelEncoder\n",
        "\n",
        "le = LabelEncoder()\n",
        "X = df_features.drop('label', axis=1)\n",
        "y = df_features['label']\n",
        "y_encoded = le.fit_transform(y)\n",
        "feature_columns = [col for col in df_features.columns if col != 'label']\n",
        "\n",
        "X_train, X_test, y_train, y_test = train_test_split(df_balanced.drop('label', axis=1),\n",
        "                                                    df_balanced['label'],\n",
        "                                                    test_size=0.2, random_state=42)"
      ],
      "metadata": {
        "id": "yxPCs8EJQvgb"
      },
      "execution_count": 105,
      "outputs": []
    },
    {
      "cell_type": "code",
      "source": [
        "fig, axes = plt.subplots(nrows=len(labels), ncols=1, figsize=(10, 12))\n",
        "\n",
        "for i, label in enumerate(labels):\n",
        "    label_data = df_balanced[df_balanced['label'] == label]\n",
        "    ax = axes[i] if len(labels) > 1 else axes\n",
        "    ax.set_title(f'{label} Feature Distribution')\n",
        "\n",
        "    # Plot histograms for MFCC mean and std features\n",
        "    for feature in label_data.columns[:-1]:\n",
        "        ax.hist(label_data[feature], bins=20, alpha=0.6, label=feature)\n",
        "\n",
        "    ax.set_ylabel(\"Frequency\")\n",
        "    ax.set_xlabel(\"Value\")\n",
        "    # ax.legend()\n",
        "\n",
        "plt.tight_layout()\n",
        "plt.show()"
      ],
      "metadata": {
        "colab": {
          "base_uri": "https://localhost:8080/",
          "height": 1000
        },
        "id": "P-Uc4MnycgMS",
        "outputId": "4c8bd163-176c-4a1d-f4e6-ea090005ab31"
      },
      "execution_count": 122,
      "outputs": [
        {
          "output_type": "display_data",
          "data": {
            "text/plain": [
              "<Figure size 1000x1200 with 7 Axes>"
            ],
            "image/png": "[encoded data removed]"
          },
          "metadata": {}
        }
      ]
    },
    {
      "cell_type": "markdown",
      "source": [
        "# Model Building"
      ],
      "metadata": {
        "id": "dqQ2ROAgpfd5"
      }
    },
    {
      "cell_type": "markdown",
      "source": [
        "## RandomForest Classification"
      ],
      "metadata": {
        "id": "xTOJdScdr0Sq"
      }
    },
    {
      "cell_type": "code",
      "source": [
        "import os\n",
        "import glob\n",
        "import numpy as np\n",
        "import pandas as pd\n",
        "import librosa\n",
        "from sklearn.model_selection import GridSearchCV\n",
        "from sklearn.model_selection import train_test_split\n",
        "from sklearn.ensemble import RandomForestClassifier\n",
        "from sklearn.metrics import accuracy_score\n",
        "from sklearn.preprocessing import LabelEncoder\n",
        "from sklearn.metrics import confusion_matrix, classification_report\n",
        "from sklearn.model_selection import cross_val_score"
      ],
      "metadata": {
        "id": "50bPizIPtuI0"
      },
      "execution_count": 81,
      "outputs": []
    },
    {
      "cell_type": "code",
      "source": [
        "# Train a Random Forest classifier\n",
        "# clf = RandomForestClassifier(n_estimators=100, random_state=42)\n",
        "clf = RandomForestClassifier(\n",
        "    n_estimators=50,\n",
        "    max_depth=10,\n",
        "    min_samples_split=6,\n",
        "    min_samples_leaf=4,\n",
        "    max_features=0.5,\n",
        "    bootstrap=True,\n",
        "    random_state=42\n",
        ")\n",
        "clf.fit(X_train, y_train)"
      ],
      "metadata": {
        "colab": {
          "base_uri": "https://localhost:8080/",
          "height": 97
        },
        "id": "SQm_FximBdJC",
        "outputId": "2f495056-2155-460c-89e7-8313d4fa20f1"
      },
      "execution_count": 73,
      "outputs": [
        {
          "output_type": "execute_result",
          "data": {
            "text/plain": [
              "RandomForestClassifier(max_depth=10, max_features=0.5, min_samples_leaf=4,\n",
              "                       min_samples_split=6, n_estimators=50, random_state=42)"
            ],
            "text/html": [
              "<style>#sk-container-id-3 {\n",
              "  /* Definition of color scheme common for light and dark mode */\n",
              "  --sklearn-color-text: #000;\n",
              "  --sklearn-color-text-muted: #666;\n",
              "  --sklearn-color-line: gray;\n",
              "  /* Definition of color scheme for unfitted estimators */\n",
              "  --sklearn-color-unfitted-level-0: #fff5e6;\n",
              "  --sklearn-color-unfitted-level-1: #f6e4d2;\n",
              "  --sklearn-color-unfitted-level-2: #ffe0b3;\n",
              "  --sklearn-color-unfitted-level-3: chocolate;\n",
              "  /* Definition of color scheme for fitted estimators */\n",
              "  --sklearn-color-fitted-level-0: #f0f8ff;\n",
              "  --sklearn-color-fitted-level-1: #d4ebff;\n",
              "  --sklearn-color-fitted-level-2: #b3dbfd;\n",
              "  --sklearn-color-fitted-level-3: cornflowerblue;\n",
              "\n",
              "  /* Specific color for light theme */\n",
              "  --sklearn-color-text-on-default-background: var(--sg-text-color, var(--theme-code-foreground, var(--jp-content-font-color1, black)));\n",
              "  --sklearn-color-background: var(--sg-background-color, var(--theme-background, var(--jp-layout-color0, white)));\n",
              "  --sklearn-color-border-box: var(--sg-text-color, var(--theme-code-foreground, var(--jp-content-font-color1, black)));\n",
              "  --sklearn-color-icon: #696969;\n",
              "\n",
              "  @media (prefers-color-scheme: dark) {\n",
              "    /* Redefinition of color scheme for dark theme */\n",
              "    --sklearn-color-text-on-default-background: var(--sg-text-color, var(--theme-code-foreground, var(--jp-content-font-color1, white)));\n",
              "    --sklearn-color-background: var(--sg-background-color, var(--theme-background, var(--jp-layout-color0, #111)));\n",
              "    --sklearn-color-border-box: var(--sg-text-color, var(--theme-code-foreground, var(--jp-content-font-color1, white)));\n",
              "    --sklearn-color-icon: #878787;\n",
              "  }\n",
              "}\n",
              "\n",
              "#sk-container-id-3 {\n",
              "  color: var(--sklearn-color-text);\n",
              "}\n",
              "\n",
              "#sk-container-id-3 pre {\n",
              "  padding: 0;\n",
              "}\n",
              "\n",
              "#sk-container-id-3 input.sk-hidden--visually {\n",
              "  border: 0;\n",
              "  clip: rect(1px 1px 1px 1px);\n",
              "  clip: rect(1px, 1px, 1px, 1px);\n",
              "  height: 1px;\n",
              "  margin: -1px;\n",
              "  overflow: hidden;\n",
              "  padding: 0;\n",
              "  position: absolute;\n",
              "  width: 1px;\n",
              "}\n",
              "\n",
              "#sk-container-id-3 div.sk-dashed-wrapped {\n",
              "  border: 1px dashed var(--sklearn-color-line);\n",
              "  margin: 0 0.4em 0.5em 0.4em;\n",
              "  box-sizing: border-box;\n",
              "  padding-bottom: 0.4em;\n",
              "  background-color: var(--sklearn-color-background);\n",
              "}\n",
              "\n",
              "#sk-container-id-3 div.sk-container {\n",
              "  /* jupyter's `normalize.less` sets `[hidden] { display: none; }`\n",
              "     but bootstrap.min.css set `[hidden] { display: none !important; }`\n",
              "     so we also need the `!important` here to be able to override the\n",
              "     default hidden behavior on the sphinx rendered scikit-learn.org.\n",
              "     See: https://github.com/scikit-learn/scikit-learn/issues/21755 */\n",
              "  display: inline-block !important;\n",
              "  position: relative;\n",
              "}\n",
              "\n",
              "#sk-container-id-3 div.sk-text-repr-fallback {\n",
              "  display: none;\n",
              "}\n",
              "\n",
              "div.sk-parallel-item,\n",
              "div.sk-serial,\n",
              "div.sk-item {\n",
              "  /* draw centered vertical line to link estimators */\n",
              "  background-image: linear-gradient(var(--sklearn-color-text-on-default-background), var(--sklearn-color-text-on-default-background));\n",
              "  background-size: 2px 100%;\n",
              "  background-repeat: no-repeat;\n",
              "  background-position: center center;\n",
              "}\n",
              "\n",
              "/* Parallel-specific style estimator block */\n",
              "\n",
              "#sk-container-id-3 div.sk-parallel-item::after {\n",
              "  content: \"\";\n",
              "  width: 100%;\n",
              "  border-bottom: 2px solid var(--sklearn-color-text-on-default-background);\n",
              "  flex-grow: 1;\n",
              "}\n",
              "\n",
              "#sk-container-id-3 div.sk-parallel {\n",
              "  display: flex;\n",
              "  align-items: stretch;\n",
              "  justify-content: center;\n",
              "  background-color: var(--sklearn-color-background);\n",
              "  position: relative;\n",
              "}\n",
              "\n",
              "#sk-container-id-3 div.sk-parallel-item {\n",
              "  display: flex;\n",
              "  flex-direction: column;\n",
              "}\n",
              "\n",
              "#sk-container-id-3 div.sk-parallel-item:first-child::after {\n",
              "  align-self: flex-end;\n",
              "  width: 50%;\n",
              "}\n",
              "\n",
              "#sk-container-id-3 div.sk-parallel-item:last-child::after {\n",
              "  align-self: flex-start;\n",
              "  width: 50%;\n",
              "}\n",
              "\n",
              "#sk-container-id-3 div.sk-parallel-item:only-child::after {\n",
              "  width: 0;\n",
              "}\n",
              "\n",
              "/* Serial-specific style estimator block */\n",
              "\n",
              "#sk-container-id-3 div.sk-serial {\n",
              "  display: flex;\n",
              "  flex-direction: column;\n",
              "  align-items: center;\n",
              "  background-color: var(--sklearn-color-background);\n",
              "  padding-right: 1em;\n",
              "  padding-left: 1em;\n",
              "}\n",
              "\n",
              "\n",
              "/* Toggleable style: style used for estimator/Pipeline/ColumnTransformer box that is\n",
              "clickable and can be expanded/collapsed.\n",
              "- Pipeline and ColumnTransformer use this feature and define the default style\n",
              "- Estimators will overwrite some part of the style using the `sk-estimator` class\n",
              "*/\n",
              "\n",
              "/* Pipeline and ColumnTransformer style (default) */\n",
              "\n",
              "#sk-container-id-3 div.sk-toggleable {\n",
              "  /* Default theme specific background. It is overwritten whether we have a\n",
              "  specific estimator or a Pipeline/ColumnTransformer */\n",
              "  background-color: var(--sklearn-color-background);\n",
              "}\n",
              "\n",
              "/* Toggleable label */\n",
              "#sk-container-id-3 label.sk-toggleable__label {\n",
              "  cursor: pointer;\n",
              "  display: flex;\n",
              "  width: 100%;\n",
              "  margin-bottom: 0;\n",
              "  padding: 0.5em;\n",
              "  box-sizing: border-box;\n",
              "  text-align: center;\n",
              "  align-items: start;\n",
              "  justify-content: space-between;\n",
              "  gap: 0.5em;\n",
              "}\n",
              "\n",
              "#sk-container-id-3 label.sk-toggleable__label .caption {\n",
              "  font-size: 0.6rem;\n",
              "  font-weight: lighter;\n",
              "  color: var(--sklearn-color-text-muted);\n",
              "}\n",
              "\n",
              "#sk-container-id-3 label.sk-toggleable__label-arrow:before {\n",
              "  /* Arrow on the left of the label */\n",
              "  content: \"▸\";\n",
              "  float: left;\n",
              "  margin-right: 0.25em;\n",
              "  color: var(--sklearn-color-icon);\n",
              "}\n",
              "\n",
              "#sk-container-id-3 label.sk-toggleable__label-arrow:hover:before {\n",
              "  color: var(--sklearn-color-text);\n",
              "}\n",
              "\n",
              "/* Toggleable content - dropdown */\n",
              "\n",
              "#sk-container-id-3 div.sk-toggleable__content {\n",
              "  max-height: 0;\n",
              "  max-width: 0;\n",
              "  overflow: hidden;\n",
              "  text-align: left;\n",
              "  /* unfitted */\n",
              "  background-color: var(--sklearn-color-unfitted-level-0);\n",
              "}\n",
              "\n",
              "#sk-container-id-3 div.sk-toggleable__content.fitted {\n",
              "  /* fitted */\n",
              "  background-color: var(--sklearn-color-fitted-level-0);\n",
              "}\n",
              "\n",
              "#sk-container-id-3 div.sk-toggleable__content pre {\n",
              "  margin: 0.2em;\n",
              "  border-radius: 0.25em;\n",
              "  color: var(--sklearn-color-text);\n",
              "  /* unfitted */\n",
              "  background-color: var(--sklearn-color-unfitted-level-0);\n",
              "}\n",
              "\n",
              "#sk-container-id-3 div.sk-toggleable__content.fitted pre {\n",
              "  /* unfitted */\n",
              "  background-color: var(--sklearn-color-fitted-level-0);\n",
              "}\n",
              "\n",
              "#sk-container-id-3 input.sk-toggleable__control:checked~div.sk-toggleable__content {\n",
              "  /* Expand drop-down */\n",
              "  max-height: 200px;\n",
              "  max-width: 100%;\n",
              "  overflow: auto;\n",
              "}\n",
              "\n",
              "#sk-container-id-3 input.sk-toggleable__control:checked~label.sk-toggleable__label-arrow:before {\n",
              "  content: \"▾\";\n",
              "}\n",
              "\n",
              "/* Pipeline/ColumnTransformer-specific style */\n",
              "\n",
              "#sk-container-id-3 div.sk-label input.sk-toggleable__control:checked~label.sk-toggleable__label {\n",
              "  color: var(--sklearn-color-text);\n",
              "  background-color: var(--sklearn-color-unfitted-level-2);\n",
              "}\n",
              "\n",
              "#sk-container-id-3 div.sk-label.fitted input.sk-toggleable__control:checked~label.sk-toggleable__label {\n",
              "  background-color: var(--sklearn-color-fitted-level-2);\n",
              "}\n",
              "\n",
              "/* Estimator-specific style */\n",
              "\n",
              "/* Colorize estimator box */\n",
              "#sk-container-id-3 div.sk-estimator input.sk-toggleable__control:checked~label.sk-toggleable__label {\n",
              "  /* unfitted */\n",
              "  background-color: var(--sklearn-color-unfitted-level-2);\n",
              "}\n",
              "\n",
              "#sk-container-id-3 div.sk-estimator.fitted input.sk-toggleable__control:checked~label.sk-toggleable__label {\n",
              "  /* fitted */\n",
              "  background-color: var(--sklearn-color-fitted-level-2);\n",
              "}\n",
              "\n",
              "#sk-container-id-3 div.sk-label label.sk-toggleable__label,\n",
              "#sk-container-id-3 div.sk-label label {\n",
              "  /* The background is the default theme color */\n",
              "  color: var(--sklearn-color-text-on-default-background);\n",
              "}\n",
              "\n",
              "/* On hover, darken the color of the background */\n",
              "#sk-container-id-3 div.sk-label:hover label.sk-toggleable__label {\n",
              "  color: var(--sklearn-color-text);\n",
              "  background-color: var(--sklearn-color-unfitted-level-2);\n",
              "}\n",
              "\n",
              "/* Label box, darken color on hover, fitted */\n",
              "#sk-container-id-3 div.sk-label.fitted:hover label.sk-toggleable__label.fitted {\n",
              "  color: var(--sklearn-color-text);\n",
              "  background-color: var(--sklearn-color-fitted-level-2);\n",
              "}\n",
              "\n",
              "/* Estimator label */\n",
              "\n",
              "#sk-container-id-3 div.sk-label label {\n",
              "  font-family: monospace;\n",
              "  font-weight: bold;\n",
              "  display: inline-block;\n",
              "  line-height: 1.2em;\n",
              "}\n",
              "\n",
              "#sk-container-id-3 div.sk-label-container {\n",
              "  text-align: center;\n",
              "}\n",
              "\n",
              "/* Estimator-specific */\n",
              "#sk-container-id-3 div.sk-estimator {\n",
              "  font-family: monospace;\n",
              "  border: 1px dotted var(--sklearn-color-border-box);\n",
              "  border-radius: 0.25em;\n",
              "  box-sizing: border-box;\n",
              "  margin-bottom: 0.5em;\n",
              "  /* unfitted */\n",
              "  background-color: var(--sklearn-color-unfitted-level-0);\n",
              "}\n",
              "\n",
              "#sk-container-id-3 div.sk-estimator.fitted {\n",
              "  /* fitted */\n",
              "  background-color: var(--sklearn-color-fitted-level-0);\n",
              "}\n",
              "\n",
              "/* on hover */\n",
              "#sk-container-id-3 div.sk-estimator:hover {\n",
              "  /* unfitted */\n",
              "  background-color: var(--sklearn-color-unfitted-level-2);\n",
              "}\n",
              "\n",
              "#sk-container-id-3 div.sk-estimator.fitted:hover {\n",
              "  /* fitted */\n",
              "  background-color: var(--sklearn-color-fitted-level-2);\n",
              "}\n",
              "\n",
              "/* Specification for estimator info (e.g. \"i\" and \"?\") */\n",
              "\n",
              "/* Common style for \"i\" and \"?\" */\n",
              "\n",
              ".sk-estimator-doc-link,\n",
              "a:link.sk-estimator-doc-link,\n",
              "a:visited.sk-estimator-doc-link {\n",
              "  float: right;\n",
              "  font-size: smaller;\n",
              "  line-height: 1em;\n",
              "  font-family: monospace;\n",
              "  background-color: var(--sklearn-color-background);\n",
              "  border-radius: 1em;\n",
              "  height: 1em;\n",
              "  width: 1em;\n",
              "  text-decoration: none !important;\n",
              "  margin-left: 0.5em;\n",
              "  text-align: center;\n",
              "  /* unfitted */\n",
              "  border: var(--sklearn-color-unfitted-level-1) 1pt solid;\n",
              "  color: var(--sklearn-color-unfitted-level-1);\n",
              "}\n",
              "\n",
              ".sk-estimator-doc-link.fitted,\n",
              "a:link.sk-estimator-doc-link.fitted,\n",
              "a:visited.sk-estimator-doc-link.fitted {\n",
              "  /* fitted */\n",
              "  border: var(--sklearn-color-fitted-level-1) 1pt solid;\n",
              "  color: var(--sklearn-color-fitted-level-1);\n",
              "}\n",
              "\n",
              "/* On hover */\n",
              "div.sk-estimator:hover .sk-estimator-doc-link:hover,\n",
              ".sk-estimator-doc-link:hover,\n",
              "div.sk-label-container:hover .sk-estimator-doc-link:hover,\n",
              ".sk-estimator-doc-link:hover {\n",
              "  /* unfitted */\n",
              "  background-color: var(--sklearn-color-unfitted-level-3);\n",
              "  color: var(--sklearn-color-background);\n",
              "  text-decoration: none;\n",
              "}\n",
              "\n",
              "div.sk-estimator.fitted:hover .sk-estimator-doc-link.fitted:hover,\n",
              ".sk-estimator-doc-link.fitted:hover,\n",
              "div.sk-label-container:hover .sk-estimator-doc-link.fitted:hover,\n",
              ".sk-estimator-doc-link.fitted:hover {\n",
              "  /* fitted */\n",
              "  background-color: var(--sklearn-color-fitted-level-3);\n",
              "  color: var(--sklearn-color-background);\n",
              "  text-decoration: none;\n",
              "}\n",
              "\n",
              "/* Span, style for the box shown on hovering the info icon */\n",
              ".sk-estimator-doc-link span {\n",
              "  display: none;\n",
              "  z-index: 9999;\n",
              "  position: relative;\n",
              "  font-weight: normal;\n",
              "  right: .2ex;\n",
              "  padding: .5ex;\n",
              "  margin: .5ex;\n",
              "  width: min-content;\n",
              "  min-width: 20ex;\n",
              "  max-width: 50ex;\n",
              "  color: var(--sklearn-color-text);\n",
              "  box-shadow: 2pt 2pt 4pt #999;\n",
              "  /* unfitted */\n",
              "  background: var(--sklearn-color-unfitted-level-0);\n",
              "  border: .5pt solid var(--sklearn-color-unfitted-level-3);\n",
              "}\n",
              "\n",
              ".sk-estimator-doc-link.fitted span {\n",
              "  /* fitted */\n",
              "  background: var(--sklearn-color-fitted-level-0);\n",
              "  border: var(--sklearn-color-fitted-level-3);\n",
              "}\n",
              "\n",
              ".sk-estimator-doc-link:hover span {\n",
              "  display: block;\n",
              "}\n",
              "\n",
              "/* \"?\"-specific style due to the `<a>` HTML tag */\n",
              "\n",
              "#sk-container-id-3 a.estimator_doc_link {\n",
              "  float: right;\n",
              "  font-size: 1rem;\n",
              "  line-height: 1em;\n",
              "  font-family: monospace;\n",
              "  background-color: var(--sklearn-color-background);\n",
              "  border-radius: 1rem;\n",
              "  height: 1rem;\n",
              "  width: 1rem;\n",
              "  text-decoration: none;\n",
              "  /* unfitted */\n",
              "  color: var(--sklearn-color-unfitted-level-1);\n",
              "  border: var(--sklearn-color-unfitted-level-1) 1pt solid;\n",
              "}\n",
              "\n",
              "#sk-container-id-3 a.estimator_doc_link.fitted {\n",
              "  /* fitted */\n",
              "  border: var(--sklearn-color-fitted-level-1) 1pt solid;\n",
              "  color: var(--sklearn-color-fitted-level-1);\n",
              "}\n",
              "\n",
              "/* On hover */\n",
              "#sk-container-id-3 a.estimator_doc_link:hover {\n",
              "  /* unfitted */\n",
              "  background-color: var(--sklearn-color-unfitted-level-3);\n",
              "  color: var(--sklearn-color-background);\n",
              "  text-decoration: none;\n",
              "}\n",
              "\n",
              "#sk-container-id-3 a.estimator_doc_link.fitted:hover {\n",
              "  /* fitted */\n",
              "  background-color: var(--sklearn-color-fitted-level-3);\n",
              "}\n",
              "</style><div id=\"sk-container-id-3\" class=\"sk-top-container\"><div class=\"sk-text-repr-fallback\"><pre>RandomForestClassifier(max_depth=10, max_features=0.5, min_samples_leaf=4,\n",
              "                       min_samples_split=6, n_estimators=50, random_state=42)</pre><b>In a Jupyter environment, please rerun this cell to show the HTML representation or trust the notebook. <br />On GitHub, the HTML representation is unable to render, please try loading this page with nbviewer.org.</b></div><div class=\"sk-container\" hidden><div class=\"sk-item\"><div class=\"sk-estimator fitted sk-toggleable\"><input class=\"sk-toggleable__control sk-hidden--visually\" id=\"sk-estimator-id-3\" type=\"checkbox\" checked><label for=\"sk-estimator-id-3\" class=\"sk-toggleable__label fitted sk-toggleable__label-arrow\"><div><div>RandomForestClassifier</div></div><div><a class=\"sk-estimator-doc-link fitted\" rel=\"noreferrer\" target=\"_blank\" href=\"https://scikit-learn.org/1.6/modules/generated/sklearn.ensemble.RandomForestClassifier.html\">?<span>Documentation for RandomForestClassifier</span></a><span class=\"sk-estimator-doc-link fitted\">i<span>Fitted</span></span></div></label><div class=\"sk-toggleable__content fitted\"><pre>RandomForestClassifier(max_depth=10, max_features=0.5, min_samples_leaf=4,\n",
              "                       min_samples_split=6, n_estimators=50, random_state=42)</pre></div> </div></div></div></div>"
            ]
          },
          "metadata": {},
          "execution_count": 73
        }
      ]
    },
    {
      "cell_type": "code",
      "source": [
        "# Make predictions and evaluate the classifier\n",
        "y_pred = clf.predict(X_test)\n",
        "accuracy = accuracy_score(y_test, y_pred)\n",
        "print(f\"Test Accuracy: {accuracy*100:.2f}%\")"
      ],
      "metadata": {
        "colab": {
          "base_uri": "https://localhost:8080/"
        },
        "id": "3SpC6v8pFYXP",
        "outputId": "ef10712e-4c08-44e0-a8f5-3abf57300f6e"
      },
      "execution_count": 74,
      "outputs": [
        {
          "output_type": "stream",
          "name": "stdout",
          "text": [
            "Test Accuracy: 99.60%\n"
          ]
        }
      ]
    },
    {
      "cell_type": "code",
      "source": [
        "# Confusion Matrix\n",
        "cm = confusion_matrix(y_test, y_pred)\n",
        "print(\"Confusion Matrix:\")\n",
        "print(cm)\n",
        "print(\"-\"*50)\n",
        "\n",
        "# Classification Report\n",
        "cr = classification_report(y_test, y_pred, target_names=le.classes_)\n",
        "print(\"Classification Report:\")\n",
        "print(cr)\n",
        "print(\"-\"*50)\n",
        "\n",
        "# Perform 5-fold cross-validation\n",
        "rf = RandomForestClassifier(n_estimators=100, random_state=42)\n",
        "cv_scores = cross_val_score(rf, X, y, cv=5, scoring='accuracy')\n",
        "print(\"Cross-validation scores:\", cv_scores)\n",
        "print(\"Mean CV score:\", cv_scores.mean())\n",
        "\n",
        "param_grid = {\n",
        "    'n_estimators': [50, 100],\n",
        "    'max_depth': [5, 10, None],\n",
        "    'min_samples_split': [2, 4, 8],\n",
        "    'min_samples_leaf': [1, 2, 4],\n",
        "}\n",
        "\n",
        "grid_search = GridSearchCV(RandomForestClassifier(random_state=42), param_grid, cv=5)\n",
        "grid_search.fit(X_train, y_train)\n",
        "print(f\"Best Parameters: {grid_search.best_params_}\")"
      ],
      "metadata": {
        "colab": {
          "base_uri": "https://localhost:8080/"
        },
        "id": "Gee7AwbA7ils",
        "outputId": "794db5f5-47bf-47a7-abcc-e3ed7e7688f1"
      },
      "execution_count": 82,
      "outputs": [
        {
          "output_type": "stream",
          "name": "stdout",
          "text": [
            "Confusion Matrix:\n",
            "[[100   0   0   0   0   0   0]\n",
            " [  0  83   0   0   0   0   0]\n",
            " [  1   0 159   0   1   1   0]\n",
            " [  0   0   0 102   0   0   0]\n",
            " [  0   0   0   0 105   0   0]\n",
            " [  0   0   0   0   0 101   0]\n",
            " [  0   0   0   0   0   0 106]]\n",
            "--------------------------------------------------\n",
            "Classification Report:\n",
            "                precision    recall  f1-score   support\n",
            "\n",
            "Bronchiectasis       0.99      1.00      1.00       100\n",
            " Bronchiolitis       1.00      1.00      1.00        83\n",
            "          COPD       1.00      0.98      0.99       162\n",
            "          LRTI       1.00      1.00      1.00       102\n",
            "     Pneumonia       0.99      1.00      1.00       105\n",
            "          URTI       0.99      1.00      1.00       101\n",
            "       healthy       1.00      1.00      1.00       106\n",
            "\n",
            "      accuracy                           1.00       759\n",
            "     macro avg       1.00      1.00      1.00       759\n",
            "  weighted avg       1.00      1.00      1.00       759\n",
            "\n",
            "--------------------------------------------------\n"
          ]
        },
        {
          "output_type": "stream",
          "name": "stderr",
          "text": [
            "/usr/local/lib/python3.11/dist-packages/sklearn/model_selection/_split.py:805: UserWarning: The least populated class in y has only 2 members, which is less than n_splits=5.\n",
            "  warnings.warn(\n"
          ]
        },
        {
          "output_type": "stream",
          "name": "stdout",
          "text": [
            "Cross-validation scores: [0.90217391 0.90217391 0.92391304 0.9076087  0.87978142]\n",
            "Mean CV score: 0.9031301971964837\n",
            "Best Parameters: {'max_depth': None, 'min_samples_leaf': 1, 'min_samples_split': 4, 'n_estimators': 100}\n"
          ]
        }
      ]
    },
    {
      "cell_type": "markdown",
      "source": [
        "## SVM"
      ],
      "metadata": {
        "id": "_nRSoWExCBdR"
      }
    },
    {
      "cell_type": "code",
      "source": [
        "from sklearn.svm import SVC\n",
        "from sklearn.pipeline import Pipeline\n",
        "from sklearn.preprocessing import StandardScaler\n",
        "from sklearn.model_selection import GridSearchCV\n",
        "from sklearn.model_selection import cross_val_score"
      ],
      "metadata": {
        "id": "gfHnvh6TDIb0"
      },
      "execution_count": 83,
      "outputs": []
    },
    {
      "cell_type": "code",
      "source": [
        "# Create a pipeline that first scales the data then trains an SVM\n",
        "svm_pipeline = Pipeline([\n",
        "    ('scaler', StandardScaler()),\n",
        "    # ('svc', SVC(kernel='rbf', probability=True, random_state=42))\n",
        "    ('svc', SVC(\n",
        "        kernel='linear',\n",
        "        probability=True,\n",
        "        C=0.1,\n",
        "        random_state=42\n",
        "        ))\n",
        "])\n",
        "\n",
        "# Define a grid of hyperparameters to search over\n",
        "param_grid = {\n",
        "    # 'svc__C': [0.1, 1, 10, 100],\n",
        "    'svc__C': [0.1, 1, 10]\n",
        "    # 'svc__gamma': [0.001, 0.01, 0.1, 1],\n",
        "}\n",
        "\n",
        "# Set up grid search with 5-fold cross-validation\n",
        "grid_search = GridSearchCV(svm_pipeline, param_grid, cv=5, n_jobs=-1, verbose=1)\n",
        "grid_search.fit(X_train, y_train)\n",
        "\n",
        "print(\"Best parameters found:\", grid_search.best_params_)\n",
        "print(\"Best cross validation accuracy:\", grid_search.best_score_)"
      ],
      "metadata": {
        "colab": {
          "base_uri": "https://localhost:8080/"
        },
        "id": "drYXAEJYCbar",
        "outputId": "9d4a0309-3638-4bda-bbc8-33bf5f6fd33f"
      },
      "execution_count": 84,
      "outputs": [
        {
          "output_type": "stream",
          "name": "stdout",
          "text": [
            "Fitting 5 folds for each of 3 candidates, totalling 15 fits\n",
            "Best parameters found: {'svc__C': 10}\n",
            "Best cross validation accuracy: 0.9930790937413345\n"
          ]
        }
      ]
    },
    {
      "cell_type": "code",
      "source": [
        "# Predict on the test set and evaluate accuracy\n",
        "y_pred_svm = grid_search.predict(X_test)\n",
        "accuracy_svm = accuracy_score(y_test, y_pred_svm)\n",
        "svm = grid_search.best_estimator_\n",
        "print(f\"SVM Test Accuracy: {accuracy_svm*100:.2f}%\")"
      ],
      "metadata": {
        "colab": {
          "base_uri": "https://localhost:8080/"
        },
        "id": "TMRMpjN3ER6g",
        "outputId": "6b7378dd-aa47-4b2a-fd92-9cbc17c3496a"
      },
      "execution_count": 85,
      "outputs": [
        {
          "output_type": "stream",
          "name": "stdout",
          "text": [
            "SVM Test Accuracy: 99.74%\n"
          ]
        }
      ]
    },
    {
      "cell_type": "code",
      "source": [
        "# Confusion Matrix\n",
        "cm = confusion_matrix(y_test, y_pred_svm)\n",
        "print(\"Confusion Matrix:\")\n",
        "print(cm)\n",
        "\n",
        "# Classification Report\n",
        "cr = classification_report(y_test, y_pred_svm, target_names=le.classes_)\n",
        "print(\"Classification Report:\")\n",
        "print(cr)\n",
        "\n",
        "# Evaluate the best SVM pipeline using cross-validation on the training set\n",
        "cv_scores_svm = cross_val_score(grid_search.best_estimator_, X_train, y_train, cv=5, scoring='accuracy')\n",
        "print(\"SVM Cross-validation scores:\", cv_scores_svm)\n",
        "print(\"Mean SVM CV score:\", cv_scores_svm.mean())"
      ],
      "metadata": {
        "colab": {
          "base_uri": "https://localhost:8080/"
        },
        "id": "WblvEqXK-J7H",
        "outputId": "bc87e230-2988-4e1b-d176-1663cbfae9d9"
      },
      "execution_count": 86,
      "outputs": [
        {
          "output_type": "stream",
          "name": "stdout",
          "text": [
            "Confusion Matrix:\n",
            "[[100   0   0   0   0   0   0]\n",
            " [  0  83   0   0   0   0   0]\n",
            " [  1   1 160   0   0   0   0]\n",
            " [  0   0   0 102   0   0   0]\n",
            " [  0   0   0   0 105   0   0]\n",
            " [  0   0   0   0   0 101   0]\n",
            " [  0   0   0   0   0   0 106]]\n",
            "Classification Report:\n",
            "                precision    recall  f1-score   support\n",
            "\n",
            "Bronchiectasis       0.99      1.00      1.00       100\n",
            " Bronchiolitis       0.99      1.00      0.99        83\n",
            "          COPD       1.00      0.99      0.99       162\n",
            "          LRTI       1.00      1.00      1.00       102\n",
            "     Pneumonia       1.00      1.00      1.00       105\n",
            "          URTI       1.00      1.00      1.00       101\n",
            "       healthy       1.00      1.00      1.00       106\n",
            "\n",
            "      accuracy                           1.00       759\n",
            "     macro avg       1.00      1.00      1.00       759\n",
            "  weighted avg       1.00      1.00      1.00       759\n",
            "\n",
            "SVM Cross-validation scores: [0.99176277 0.99341021 0.99505766 0.99011532 0.9950495 ]\n",
            "Mean SVM CV score: 0.9930790937413345\n"
          ]
        }
      ]
    },
    {
      "cell_type": "markdown",
      "source": [
        "## Ensemble"
      ],
      "metadata": {
        "id": "iNpmlkLIFNfP"
      }
    },
    {
      "cell_type": "code",
      "source": [
        "# from sklearn.ensemble import StackingClassifier\n",
        "# from sklearn.linear_model import LogisticRegression\n",
        "\n",
        "# base_learners = [\n",
        "#     ('rf', RandomForestClassifier(n_estimators=50, max_depth=10, random_state=42)),\n",
        "#     ('svm', SVC(kernel='linear', C=0.1, random_state=42))\n",
        "# ]\n",
        "\n",
        "# stack_model = StackingClassifier(estimators=base_learners, final_estimator=LogisticRegression())\n",
        "# stack_model.fit(X_train, y_train)\n",
        "\n",
        "# y_pred_stack = stack_model.predict(X_test)\n",
        "# accuracy_stack = accuracy_score(y_test, y_pred_stack)\n",
        "# print(f\"Stacking Model Test Accuracy: {accuracy_stack*100:.2f}%\")"
      ],
      "metadata": {
        "id": "v_yado477ZkY",
        "colab": {
          "base_uri": "https://localhost:8080/"
        },
        "outputId": "d2beb523-d8ed-4251-a430-98e42297a6c3"
      },
      "execution_count": 87,
      "outputs": [
        {
          "output_type": "stream",
          "name": "stdout",
          "text": [
            "Stacking Model Test Accuracy: 100.00%\n"
          ]
        }
      ]
    },
    {
      "cell_type": "code",
      "source": [
        "from sklearn.ensemble import VotingClassifier\n",
        "\n",
        "# Create an ensemble classifier with soft voting\n",
        "ensemble_model = VotingClassifier(\n",
        "    estimators=[('rf', clf), ('svm', svm)],\n",
        "    voting='soft',\n",
        "    weights=[3, 2]\n",
        ")\n",
        "\n",
        "# Train the ensemble model on the training data\n",
        "ensemble_model.fit(X_train, y_train)\n",
        "\n",
        "# Predict on the test set and evaluate accuracy\n",
        "y_pred_ensemble = ensemble_model.predict(X_test)\n",
        "accuracy_ensemble = accuracy_score(y_test, y_pred_ensemble)\n",
        "print(f\"Ensemble Model Test Accuracy: {accuracy_ensemble*100:.2f}%\")"
      ],
      "metadata": {
        "colab": {
          "base_uri": "https://localhost:8080/"
        },
        "id": "8CJGyImsFOuI",
        "outputId": "a2a53c21-d3fb-497d-c30e-ad82ae8ec368"
      },
      "execution_count": 88,
      "outputs": [
        {
          "output_type": "stream",
          "name": "stdout",
          "text": [
            "Ensemble Model Test Accuracy: 100.00%\n"
          ]
        }
      ]
    },
    {
      "cell_type": "markdown",
      "source": [
        "# Try out"
      ],
      "metadata": {
        "id": "4eMXNNm4GoXn"
      }
    },
    {
      "cell_type": "code",
      "source": [
        "def predict_lung_cancer_probability(wav_file, ensemble_model, feature_columns, label_encoder):\n",
        "    # Extract features using the same function as for training\n",
        "    feats = extract_features(wav_file)\n",
        "    if feats is None:\n",
        "        print(f\"Error extracting features from {wav_file}.\")\n",
        "        return None\n",
        "\n",
        "    input_data = pd.DataFrame([feats])\n",
        "    input_data = input_data.reindex(columns=feature_columns, fill_value=0)\n",
        "\n",
        "    # Predict probabilities using the ensemble model\n",
        "\n",
        "    probas = ensemble_model.predict_proba(input_data)\n",
        "    diseased_index = np.where(label_encoder.classes_ == 'Bronchiectasis')[0][0]\n",
        "    probability_diseased = probas[0, diseased_index]\n",
        "    return probability_diseased"
      ],
      "metadata": {
        "id": "jHbPGPLCGpQX"
      },
      "execution_count": 92,
      "outputs": []
    },
    {
      "cell_type": "code",
      "source": [
        "def predict(wav_file, ensemble_model, feature_columns, label_encoder, top_n=3):\n",
        "    # Extract features using the same function as for training\n",
        "    feats = extract_features(wav_file)\n",
        "    if feats is None:\n",
        "        print(f\"Error extracting features from {wav_file}.\")\n",
        "        return None\n",
        "\n",
        "    input_data = pd.DataFrame([feats])\n",
        "    input_data = input_data.reindex(columns=feature_columns, fill_value=0)\n",
        "\n",
        "    probas = ensemble_model.predict_proba(input_data)\n",
        "    probas_sorted_indices = np.argsort(probas[0])[::-1]\n",
        "    top_diseases = []\n",
        "\n",
        "    for i in range(top_n):\n",
        "        disease_index = probas_sorted_indices[i]\n",
        "        disease_label = label_encoder.classes_[disease_index]\n",
        "        disease_probability = probas[0, disease_index]\n",
        "        top_diseases.append((disease_label, disease_probability))\n",
        "\n",
        "    return top_diseases\n"
      ],
      "metadata": {
        "id": "iR-d9_K7WKKj"
      },
      "execution_count": 103,
      "outputs": []
    },
    {
      "cell_type": "code",
      "source": [
        "wav_tests = glob.glob('/content/test/*.wav')\n",
        "feature_columns = df_features.drop(\"label\", axis=1).columns"
      ],
      "metadata": {
        "id": "8uNXviKgGvlX"
      },
      "execution_count": 93,
      "outputs": []
    },
    {
      "cell_type": "code",
      "source": [
        "for test in wav_tests:\n",
        "    probability = predict_lung_cancer_probability(test, ensemble_model, feature_columns, le)\n",
        "    if probability is not None:\n",
        "        print(f\"Probability of lung cancer: {probability*100:.2f}%\")"
      ],
      "metadata": {
        "colab": {
          "base_uri": "https://localhost:8080/"
        },
        "id": "RmmpPk1SdUAH",
        "outputId": "0ff25e5b-3e9b-46b2-c90f-671dfd7b32f2"
      },
      "execution_count": 96,
      "outputs": [
        {
          "output_type": "stream",
          "name": "stdout",
          "text": [
            "Probability of lung cancer: 3.55%\n",
            "Probability of lung cancer: 1.15%\n",
            "Probability of lung cancer: 4.57%\n"
          ]
        }
      ]
    },
    {
      "cell_type": "code",
      "source": [
        "for test in wav_tests:\n",
        "    probability = predict(wav_file=test,\n",
        "                                       ensemble_model=ensemble_model,\n",
        "                                       feature_columns=feature_columns,\n",
        "                                       label_encoder=le,\n",
        "                                       top_n=7)\n",
        "    if probability is not None:\n",
        "        print(f\"Top 3 disease probabilities for {test}:\")\n",
        "        for disease, prob in probability:\n",
        "            print(f\"{disease}: {prob * 100:.2f}%\")\n"
      ],
      "metadata": {
        "colab": {
          "base_uri": "https://localhost:8080/"
        },
        "id": "cIw8hG0RWO3Z",
        "outputId": "3bd620f8-75b7-4b51-e070-0bc6738dba29"
      },
      "execution_count": 111,
      "outputs": [
        {
          "output_type": "stream",
          "name": "stdout",
          "text": [
            "Top 3 disease probabilities for /content/test/M_0398_12y5m_1.wav:\n",
            "COPD: 77.52%\n",
            "URTI: 11.95%\n",
            "Bronchiolitis: 4.76%\n",
            "Bronchiectasis: 3.55%\n",
            "healthy: 2.23%\n",
            "Pneumonia: 0.00%\n",
            "LRTI: 0.00%\n",
            "Top 3 disease probabilities for /content/test/M_0025_11y10m_1.wav:\n",
            "COPD: 84.92%\n",
            "Pneumonia: 6.78%\n",
            "URTI: 5.95%\n",
            "healthy: 1.20%\n",
            "Bronchiectasis: 1.15%\n",
            "LRTI: 0.00%\n",
            "Bronchiolitis: 0.00%\n",
            "Top 3 disease probabilities for /content/test/M_0014_11y7m_1.wav:\n",
            "COPD: 77.60%\n",
            "Bronchiolitis: 10.63%\n",
            "URTI: 4.80%\n",
            "Bronchiectasis: 4.57%\n",
            "healthy: 2.40%\n",
            "Pneumonia: 0.00%\n",
            "LRTI: 0.00%\n"
          ]
        }
      ]
    },
    {
      "cell_type": "code",
      "source": [
        "from sklearn.calibration import CalibratedClassifierCV\n",
        "\n",
        "# Wrap your ensemble classifier with calibration\n",
        "calibrated_ensemble = CalibratedClassifierCV(ensemble_model, cv=5, method='isotonic')\n",
        "calibrated_ensemble.fit(X_train, y_train)\n",
        "\n",
        "# Now predict probabilities on new samples\n",
        "for test in wav_tests:\n",
        "    probability = predict_lung_cancer_probability(test, calibrated_ensemble, feature_columns, le)\n",
        "    if probability is not None:\n",
        "        print(f\"Calibrated probability of lung cancer: {probability*100:.2f}%\")"
      ],
      "metadata": {
        "colab": {
          "base_uri": "https://localhost:8080/"
        },
        "id": "HswO7ldPbTgS",
        "outputId": "14279479-6c35-4a9a-b523-d52c29652a2b"
      },
      "execution_count": 95,
      "outputs": [
        {
          "output_type": "stream",
          "name": "stdout",
          "text": [
            "Calibrated probability of lung cancer: 0.00%\n",
            "Calibrated probability of lung cancer: 0.00%\n",
            "Calibrated probability of lung cancer: 0.00%\n"
          ]
        }
      ]
    },
    {
      "cell_type": "code",
      "source": [],
      "metadata": {
        "id": "rtl7x5_XdbEA"
      },
      "execution_count": null,
      "outputs": []
    }
  ]
}