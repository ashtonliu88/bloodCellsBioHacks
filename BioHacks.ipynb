{
  "nbformat": 4,
  "nbformat_minor": 0,
  "metadata": {
    "colab": {
      "provenance": []
    },
    "kernelspec": {
      "name": "python3",
      "display_name": "Python 3"
    },
    "language_info": {
      "name": "python"
    }
  },
  "cells": [
    {
      "cell_type": "code",
      "execution_count": null,
      "metadata": {
        "id": "f6R13f_N0XkM"
      },
      "outputs": [],
      "source": [
        "import os\n",
        "import time\n",
        "import json\n",
        "from datetime import datetime\n",
        "import warnings\n",
        "import numpy as np\n",
        "from tqdm import tqdm\n",
        "import tensorflow as tf\n",
        "import tensorflow.keras.backend as K\n",
        "from tensorflow.python.keras import optimizers\n",
        "from tensorflow.python.keras import backend as K\n",
        "from tensorflow.python.ops import state_ops\n",
        "from tensorflow.python.ops import math_ops\n",
        "import matplotlib.pylab as plt\n",
        "import librosa"
      ]
    },
    {
      "cell_type": "code",
      "source": [
        "# Configuration defaults\n",
        "DEFAULT_CONFIG = {\n",
        "    'general': {\n",
        "        'dataset_directory': 'data/audio_samples',\n",
        "    },\n",
        "    'preprocessing': {\n",
        "        'compute_embeddings': True,\n",
        "        'files_to_PCM': True,\n",
        "    },\n",
        "    'training': {\n",
        "        'epochs': 30,\n",
        "        'batch_size': 32,\n",
        "        'initial_lr': 0.001,\n",
        "        'use_validation': True,\n",
        "        'use_multiprocessing': True,\n",
        "        'mode': 'normal',\n",
        "        'ckpt_freq': 5\n",
        "    },\n",
        "    'model': {\n",
        "        'num_classes': None,\n",
        "        'input_shape': (96, 64, 1),  # Mel spectrogram dimensions\n",
        "    }\n",
        "}\n",
        "\n",
        "class Paths:\n",
        "    \"\"\"Helper class to manage paths\"\"\"\n",
        "    def __init__(self, base_dir='.'):\n",
        "        self.base_dir = base_dir\n",
        "        self.timestamp = None\n",
        "        self.CONF = None\n",
        "\n",
        "    def get_dataset_dir(self):\n",
        "        return os.path.join(self.base_dir, 'data', 'dataset')\n",
        "\n",
        "    def get_models_dir(self):\n",
        "        return os.path.join(self.base_dir, 'models')\n",
        "\n",
        "    def get_timestamped_dir(self):\n",
        "        return os.path.join(self.base_dir, 'runs', self.timestamp)\n",
        "\n",
        "    def get_checkpoints_dir(self):\n",
        "        return os.path.join(self.get_timestamped_dir(), 'checkpoints')\n",
        "\n",
        "    def get_stats_dir(self):\n",
        "        return os.path.join(self.get_timestamped_dir(), 'stats')\n",
        "\n",
        "    def get_embeddings_dir(self):\n",
        "        return os.path.join(self.get_timestamped_dir(), 'embeddings')\n",
        "\n",
        "    def get_ts_splits_dir(self):\n",
        "        return os.path.join(self.get_timestamped_dir(), 'splits')\n"
      ],
      "metadata": {
        "id": "ggCe_yIt0b6V"
      },
      "execution_count": null,
      "outputs": []
    }
  ]
}